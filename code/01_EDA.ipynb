{
 "cells": [
  {
   "cell_type": "markdown",
   "id": "9e541a1b-d410-4ada-8eeb-039ae660395e",
   "metadata": {},
   "source": [
    "# Image data exploration\n",
    "___\n",
    "\n",
    "Exploring the image data\n",
    "* Image dimensions and aspect ratios\n",
    "* Small images and objects\n",
    "* Class imbalances\n",
    "* Visualizations\n",
    "* Data augmentation"
   ]
  },
  {
   "cell_type": "code",
   "execution_count": 4,
   "id": "b29c1934-6cfa-4a78-b753-3bf859c98ea6",
   "metadata": {
    "scrolled": true
   },
   "outputs": [
    {
     "ename": "ModuleNotFoundError",
     "evalue": "No module named 'tensorflow'",
     "output_type": "error",
     "traceback": [
      "\u001b[1;31m---------------------------------------------------------------------------\u001b[0m",
      "\u001b[1;31mModuleNotFoundError\u001b[0m                       Traceback (most recent call last)",
      "Cell \u001b[1;32mIn[4], line 1\u001b[0m\n\u001b[1;32m----> 1\u001b[0m \u001b[38;5;28;01mimport\u001b[39;00m \u001b[38;5;21;01mtensorflow\u001b[39;00m \u001b[38;5;28;01mas\u001b[39;00m \u001b[38;5;21;01mtf\u001b[39;00m\n\u001b[0;32m      2\u001b[0m \u001b[38;5;28mprint\u001b[39m(tf\u001b[38;5;241m.\u001b[39m__version__)\n",
      "\u001b[1;31mModuleNotFoundError\u001b[0m: No module named 'tensorflow'"
     ]
    }
   ],
   "source": [
    "import tensorflow as tf\n",
    "print(tf.__version__)"
   ]
  },
  {
   "cell_type": "code",
   "execution_count": 1,
   "id": "6832dab8-bcf4-4a03-a607-03bde5220afb",
   "metadata": {},
   "outputs": [
    {
     "ename": "ModuleNotFoundError",
     "evalue": "No module named 'tensorflow'",
     "output_type": "error",
     "traceback": [
      "\u001b[1;31m---------------------------------------------------------------------------\u001b[0m",
      "\u001b[1;31mModuleNotFoundError\u001b[0m                       Traceback (most recent call last)",
      "Cell \u001b[1;32mIn[1], line 6\u001b[0m\n\u001b[0;32m      3\u001b[0m \u001b[38;5;28;01mimport\u001b[39;00m \u001b[38;5;21;01mos\u001b[39;00m\n\u001b[0;32m      4\u001b[0m \u001b[38;5;28;01mimport\u001b[39;00m \u001b[38;5;21;01mpandas\u001b[39;00m \u001b[38;5;28;01mas\u001b[39;00m \u001b[38;5;21;01mpd\u001b[39;00m\n\u001b[1;32m----> 6\u001b[0m \u001b[38;5;28;01mfrom\u001b[39;00m \u001b[38;5;21;01mtensorflow\u001b[39;00m\u001b[38;5;21;01m.\u001b[39;00m\u001b[38;5;21;01mkeras\u001b[39;00m\u001b[38;5;21;01m.\u001b[39;00m\u001b[38;5;21;01mpreprocessing\u001b[39;00m\u001b[38;5;21;01m.\u001b[39;00m\u001b[38;5;21;01mimage\u001b[39;00m \u001b[38;5;28;01mimport\u001b[39;00m img_to_array, load_img, smart_resize, ImageDataGenerator\n",
      "\u001b[1;31mModuleNotFoundError\u001b[0m: No module named 'tensorflow'"
     ]
    }
   ],
   "source": [
    "import matplotlib.pyplot as plt\n",
    "import numpy as np\n",
    "import os\n",
    "import pandas as pd\n",
    "\n",
    "from tensorflow.keras.preprocessing.image import img_to_array, load_img, smart_resize, ImageDataGenerator"
   ]
  },
  {
   "cell_type": "code",
   "execution_count": 4,
   "id": "e8f405c2-d774-4459-9f40-8ba43bfd137c",
   "metadata": {},
   "outputs": [],
   "source": [
    "# Review the dataset manually to get an understading of the quality of photos\n",
    "# Ensure that all files are not-corrupt"
   ]
  },
  {
   "cell_type": "code",
   "execution_count": 6,
   "id": "0ea1e665-02d9-4d05-b41d-0861b4836eff",
   "metadata": {},
   "outputs": [],
   "source": [
    "# Resize images"
   ]
  },
  {
   "cell_type": "code",
   "execution_count": 5,
   "id": "3fa971e0-e52e-4013-ae03-a1aa077350f4",
   "metadata": {},
   "outputs": [],
   "source": [
    "# Plot some images"
   ]
  },
  {
   "cell_type": "code",
   "execution_count": 7,
   "id": "fdf3868a-9307-4611-93ed-93a4a4d1ab26",
   "metadata": {},
   "outputs": [],
   "source": [
    "# Label "
   ]
  },
  {
   "cell_type": "code",
   "execution_count": null,
   "id": "3c1b8e4f-1c07-4bba-becf-eb49cc8dfb2e",
   "metadata": {},
   "outputs": [],
   "source": []
  }
 ],
 "metadata": {
  "kernelspec": {
   "display_name": "Python 3 (ipykernel)",
   "language": "python",
   "name": "python3"
  },
  "language_info": {
   "codemirror_mode": {
    "name": "ipython",
    "version": 3
   },
   "file_extension": ".py",
   "mimetype": "text/x-python",
   "name": "python",
   "nbconvert_exporter": "python",
   "pygments_lexer": "ipython3",
   "version": "3.12.4"
  }
 },
 "nbformat": 4,
 "nbformat_minor": 5
}
