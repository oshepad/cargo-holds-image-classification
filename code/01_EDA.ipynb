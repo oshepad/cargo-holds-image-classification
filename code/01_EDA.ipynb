{
 "cells": [
  {
   "cell_type": "markdown",
   "id": "9e541a1b-d410-4ada-8eeb-039ae660395e",
   "metadata": {},
   "source": [
    "# Image data exploration\n",
    "___\n",
    "\n",
    "Exploring the image data\n",
    "* Image dimensions and aspect ratios\n",
    "* Small images and objects\n",
    "* Class imbalances\n",
    "* Visualizations\n",
    "* Data augmentation"
   ]
  },
  {
   "cell_type": "code",
   "execution_count": 3,
   "id": "6832dab8-bcf4-4a03-a607-03bde5220afb",
   "metadata": {},
   "outputs": [],
   "source": [
    "import matplotlib.pyplot as plt\n",
    "import numpy as np\n",
    "import os\n",
    "import pandas as pd\n",
    "\n",
    "from tensorflow.keras.preprocessing.image import img_to_array, load_img, smart_resize, ImageDataGenerator"
   ]
  },
  {
   "cell_type": "code",
   "execution_count": 4,
   "id": "e8f405c2-d774-4459-9f40-8ba43bfd137c",
   "metadata": {},
   "outputs": [],
   "source": [
    "# Review the dataset manually to get an understading of the quality of photos\n",
    "# Ensure that all files are not-corrupt"
   ]
  },
  {
   "cell_type": "code",
   "execution_count": 6,
   "id": "0ea1e665-02d9-4d05-b41d-0861b4836eff",
   "metadata": {},
   "outputs": [],
   "source": [
    "# Resize images"
   ]
  },
  {
   "cell_type": "code",
   "execution_count": 5,
   "id": "3fa971e0-e52e-4013-ae03-a1aa077350f4",
   "metadata": {},
   "outputs": [],
   "source": [
    "# Plot some images"
   ]
  },
  {
   "cell_type": "code",
   "execution_count": 7,
   "id": "fdf3868a-9307-4611-93ed-93a4a4d1ab26",
   "metadata": {},
   "outputs": [],
   "source": [
    "# Label "
   ]
  },
  {
   "cell_type": "code",
   "execution_count": null,
   "id": "3c1b8e4f-1c07-4bba-becf-eb49cc8dfb2e",
   "metadata": {},
   "outputs": [],
   "source": []
  }
 ],
 "metadata": {
  "kernelspec": {
   "display_name": "tfnb",
   "language": "python",
   "name": "tfnb"
  },
  "language_info": {
   "codemirror_mode": {
    "name": "ipython",
    "version": 3
   },
   "file_extension": ".py",
   "mimetype": "text/x-python",
   "name": "python",
   "nbconvert_exporter": "python",
   "pygments_lexer": "ipython3",
   "version": "3.10.13"
  }
 },
 "nbformat": 4,
 "nbformat_minor": 5
}
