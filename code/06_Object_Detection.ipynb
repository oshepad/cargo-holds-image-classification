{
 "cells": [
  {
   "cell_type": "markdown",
   "id": "5e50f49a-3a89-4ab1-b38f-e5a043b608f8",
   "metadata": {},
   "source": [
    "# Object Detection\n",
    "___\n",
    "\n",
    "The longer term interest of this project is to identify problem areas of cargo holds (chipped paint, lifted edges, rust scale, etc).  \n",
    "\n",
    "Chapter 50 in DSHB"
   ]
  }
 ],
 "metadata": {
  "kernelspec": {
   "display_name": "tfnb",
   "language": "python",
   "name": "tfnb"
  },
  "language_info": {
   "codemirror_mode": {
    "name": "ipython",
    "version": 3
   },
   "file_extension": ".py",
   "mimetype": "text/x-python",
   "name": "python",
   "nbconvert_exporter": "python",
   "pygments_lexer": "ipython3",
   "version": "3.10.13"
  }
 },
 "nbformat": 4,
 "nbformat_minor": 5
}
