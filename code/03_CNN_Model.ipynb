{
 "cells": [
  {
   "cell_type": "markdown",
   "id": "8b18868e-9c3f-4447-91d7-64827abd91c7",
   "metadata": {},
   "source": [
    "# Cargo Holds:  Clean or Dirty?\n",
    "___"
   ]
  },
  {
   "cell_type": "markdown",
   "id": "e0e91e94-cdc7-457d-9b87-abdc479391e8",
   "metadata": {},
   "source": [
    "### Modeling\n",
    "\n",
    "For this problem, a binary image classification, we have reviewed, explored and structed the data to be classified using a Convolutional Neural Network model.  The architecture of CNNs are particularly well suited for this problem.  By using filters to scan sections of the image, the model learns features, edges and other patterns.  The model can combine these features to dectect the underlying content in the image.  Since they scan the whole image, the orientation of the image has less importance, which in this case is helpful with a small, imbalanced dataset of images of objects that occupy the entirety of the image.  The model uses different layers to determine different features of the image.  For the small dataset of images of large portions, we don't necessarily need a deep model to detect additional objects (cars, faces, animals, etc).  This model is also known to scale well to big data.  At this point that is not a concern, but as previously mentioned, this dataset has the potential for robust growth.\n",
    "\n",
    "Now that synthetic data has been created to balance and augment the size of the dataset, the model can be constructed and fit. The dataset is still small, so to increase the size of the training set, the training data will be augmented on the fly during training using tensorflow ImageDataGenerator. The augmentations there will be kept modest as a significant portion of the data (27%) was asyntehtically generated. The validation set will not be augmented to simulate closer to reality model performance.\n",
    "\n",
    "Additionally the model will be regularized and normalized (rescaling, dropout, batchnormalization, l2, learning rate, and early stopping).  The model encorporates checkpoints as well to preserve the entire model as it passes through accuracy and recall thresholds.  We have added several performance metrics to monitor during fitting.\n",
    "\n",
    "We will start by constructing the image generator to augment the training data on the fly as it is fed to the model (not saved down to avoid storage and improve performance).  Then the model will be constructed and compiled before reviewing the architecture.  The model, while initially starting with 32 filters, also performed the best with a simpler architecture.\n",
    "___"
   ]
  },
  {
   "cell_type": "code",
   "execution_count": 1,
   "id": "56f1ea40-cc04-4be9-9c22-7011a82f5d6a",
   "metadata": {},
   "outputs": [],
   "source": [
    "import numpy as np\n",
    "import pandas as pd\n",
    "import matplotlib.pyplot as plt\n",
    "\n",
    "from tensorflow.keras.preprocessing import image_dataset_from_directory\n",
    "from tensorflow.keras.preprocessing.image import img_to_array, load_img, ImageDataGenerator, smart_resize\n",
    "\n",
    "from tensorflow.keras.models import Sequential, load_model\n",
    "from tensorflow.keras.layers import Input, Rescaling, Dense, Dropout, Flatten, Conv2D, MaxPooling2D, BatchNormalization\n",
    "from tensorflow.keras.regularizers import l2\n",
    "from tensorflow.keras.callbacks import EarlyStopping, ModelCheckpoint\n",
    "from tensorflow.keras.optimizers import Adam\n",
    "from tensorflow.keras.metrics import Precision, Recall\n",
    "\n",
    "from sklearn.metrics import precision_score, recall_score, f1_score, confusion_matrix, ConfusionMatrixDisplay, roc_curve, roc_auc_score, RocCurveDisplay, auc"
   ]
  },
  {
   "cell_type": "code",
   "execution_count": 2,
   "id": "5915a2d1-3f02-4eb5-b70c-1f83410776bc",
   "metadata": {},
   "outputs": [
    {
     "name": "stdout",
     "output_type": "stream",
     "text": [
      "Found 1040 images belonging to 2 classes.\n",
      "Found 110 images belonging to 2 classes.\n"
     ]
    }
   ],
   "source": [
    "# create the image data generator to apply the transformations to data\n",
    "# the transformations are realistic as it relates to what could be seen\n",
    "train_datagen = ImageDataGenerator(\n",
    "    rescale = 1./255,\n",
    "    brightness_range=(0.8, 1.2),\n",
    "    rotation_range=15,\n",
    "    width_shift_range=0.1,\n",
    "    height_shift_range=0.1,\n",
    "    shear_range=0.1,\n",
    "    zoom_range=0.1,\n",
    "    horizontal_flip=True,\n",
    "    fill_mode='nearest',\n",
    ")\n",
    "\n",
    "validate_datagen = ImageDataGenerator(\n",
    "    rescale = 1./255\n",
    ")\n",
    "\n",
    "# Loading in image data\n",
    "model_target_size = (224, 224)\n",
    "model_batch_size = 32\n",
    "\n",
    "train_generator = train_datagen.flow_from_directory(\n",
    "    '../data/train/',\n",
    "    target_size=model_target_size,\n",
    "    batch_size=model_batch_size,\n",
    "    class_mode='binary',\n",
    "    shuffle=True,\n",
    "    seed=27,\n",
    ")\n",
    "\n",
    "validation_generator = validate_datagen.flow_from_directory(\n",
    "    '../data/validate/',\n",
    "    target_size=model_target_size,\n",
    "    batch_size=model_batch_size,\n",
    "    class_mode='binary',\n",
    "    shuffle=True,\n",
    "    seed=27,\n",
    ")"
   ]
  },
  {
   "cell_type": "code",
   "execution_count": 3,
   "id": "ec12ce2d-9316-41ae-9f72-f399f79eaa2e",
   "metadata": {},
   "outputs": [
    {
     "name": "stdout",
     "output_type": "stream",
     "text": [
      "Model: \"sequential\"\n",
      "_________________________________________________________________\n",
      " Layer (type)                Output Shape              Param #   \n",
      "=================================================================\n",
      " conv2d (Conv2D)             (None, 222, 222, 32)      896       \n",
      "                                                                 \n",
      " max_pooling2d (MaxPooling2D  (None, 111, 111, 32)     0         \n",
      " )                                                               \n",
      "                                                                 \n",
      " batch_normalization (BatchN  (None, 111, 111, 32)     128       \n",
      " ormalization)                                                   \n",
      "                                                                 \n",
      " dropout (Dropout)           (None, 111, 111, 32)      0         \n",
      "                                                                 \n",
      " flatten (Flatten)           (None, 394272)            0         \n",
      "                                                                 \n",
      " dense (Dense)               (None, 64)                25233472  \n",
      "                                                                 \n",
      " batch_normalization_1 (Batc  (None, 64)               256       \n",
      " hNormalization)                                                 \n",
      "                                                                 \n",
      " dropout_1 (Dropout)         (None, 64)                0         \n",
      "                                                                 \n",
      " dense_1 (Dense)             (None, 1)                 65        \n",
      "                                                                 \n",
      "=================================================================\n",
      "Total params: 25,234,817\n",
      "Trainable params: 25,234,625\n",
      "Non-trainable params: 192\n",
      "_________________________________________________________________\n"
     ]
    }
   ],
   "source": [
    "# model for image classification\n",
    "model = Sequential()\n",
    "model.add(Input((224, 224, 3)))\n",
    "\n",
    "model.add(Conv2D(32, (3, 3), activation='relu', kernel_regularizer=l2(0.0001)))\n",
    "model.add(MaxPooling2D(pool_size=(2, 2)))\n",
    "model.add(BatchNormalization())\n",
    "model.add(Dropout(0.4))\n",
    "\n",
    "model.add(Flatten())\n",
    "model.add(Dense(64, activation='relu'))\n",
    "model.add(BatchNormalization())\n",
    "model.add(Dropout(0.4))\n",
    "model.add(Dense(1, activation='sigmoid'))\n",
    "\n",
    "# compile model\n",
    "optimizer = Adam(learning_rate=0.0001)\n",
    "model.compile(optimizer=optimizer, loss='bce', metrics=['accuracy', 'AUC', Precision(), Recall()])\n",
    "\n",
    "# architecture\n",
    "model.summary()"
   ]
  },
  {
   "cell_type": "code",
   "execution_count": 5,
   "id": "42f38fad-d1fb-41a6-9c75-acf6ad57fb8e",
   "metadata": {},
   "outputs": [
    {
     "name": "stdout",
     "output_type": "stream",
     "text": [
      "Epoch 1/25\n",
      "33/33 [==============================] - ETA: 0s - loss: 1.1503 - accuracy: 0.6010 - auc: 0.6081 - precision: 0.5985 - recall: 0.6135\n",
      "Epoch 1: val_accuracy improved from -inf to 0.55455, saving model to ../assets/saved_models\\\n"
     ]
    },
    {
     "name": "stderr",
     "output_type": "stream",
     "text": [
      "WARNING:absl:Found untraced functions such as _jit_compiled_convolution_op while saving (showing 1 of 1). These functions will not be directly callable after loading.\n"
     ]
    },
    {
     "name": "stdout",
     "output_type": "stream",
     "text": [
      "INFO:tensorflow:Assets written to: ../assets/saved_models\\assets\n"
     ]
    },
    {
     "name": "stderr",
     "output_type": "stream",
     "text": [
      "INFO:tensorflow:Assets written to: ../assets/saved_models\\assets\n"
     ]
    },
    {
     "name": "stdout",
     "output_type": "stream",
     "text": [
      "\n",
      "Epoch 1: val_recall improved from -inf to 0.14545, saving model to ../assets/saved_models\\best_recall_model\n"
     ]
    },
    {
     "name": "stderr",
     "output_type": "stream",
     "text": [
      "WARNING:absl:Found untraced functions such as _jit_compiled_convolution_op while saving (showing 1 of 1). These functions will not be directly callable after loading.\n"
     ]
    },
    {
     "name": "stdout",
     "output_type": "stream",
     "text": [
      "INFO:tensorflow:Assets written to: ../assets/saved_models\\best_recall_model\\assets\n"
     ]
    },
    {
     "name": "stderr",
     "output_type": "stream",
     "text": [
      "INFO:tensorflow:Assets written to: ../assets/saved_models\\best_recall_model\\assets\n"
     ]
    },
    {
     "name": "stdout",
     "output_type": "stream",
     "text": [
      "33/33 [==============================] - 132s 4s/step - loss: 1.1503 - accuracy: 0.6010 - auc: 0.6081 - precision: 0.5985 - recall: 0.6135 - val_loss: 0.6656 - val_accuracy: 0.5545 - val_auc: 0.7031 - val_precision: 0.8000 - val_recall: 0.1455\n",
      "Epoch 2/25\n",
      "33/33 [==============================] - ETA: 0s - loss: 0.7065 - accuracy: 0.6260 - auc: 0.6744 - precision: 0.6123 - recall: 0.6865\n",
      "Epoch 2: val_accuracy improved from 0.55455 to 0.59091, saving model to ../assets/saved_models\\\n"
     ]
    },
    {
     "name": "stderr",
     "output_type": "stream",
     "text": [
      "WARNING:absl:Found untraced functions such as _jit_compiled_convolution_op while saving (showing 1 of 1). These functions will not be directly callable after loading.\n"
     ]
    },
    {
     "name": "stdout",
     "output_type": "stream",
     "text": [
      "INFO:tensorflow:Assets written to: ../assets/saved_models\\assets\n"
     ]
    },
    {
     "name": "stderr",
     "output_type": "stream",
     "text": [
      "INFO:tensorflow:Assets written to: ../assets/saved_models\\assets\n"
     ]
    },
    {
     "name": "stdout",
     "output_type": "stream",
     "text": [
      "\n",
      "Epoch 2: val_recall improved from 0.14545 to 0.29091, saving model to ../assets/saved_models\\best_recall_model\n"
     ]
    },
    {
     "name": "stderr",
     "output_type": "stream",
     "text": [
      "WARNING:absl:Found untraced functions such as _jit_compiled_convolution_op while saving (showing 1 of 1). These functions will not be directly callable after loading.\n"
     ]
    },
    {
     "name": "stdout",
     "output_type": "stream",
     "text": [
      "INFO:tensorflow:Assets written to: ../assets/saved_models\\best_recall_model\\assets\n"
     ]
    },
    {
     "name": "stderr",
     "output_type": "stream",
     "text": [
      "INFO:tensorflow:Assets written to: ../assets/saved_models\\best_recall_model\\assets\n"
     ]
    },
    {
     "name": "stdout",
     "output_type": "stream",
     "text": [
      "33/33 [==============================] - 127s 4s/step - loss: 0.7065 - accuracy: 0.6260 - auc: 0.6744 - precision: 0.6123 - recall: 0.6865 - val_loss: 0.6530 - val_accuracy: 0.5909 - val_auc: 0.7339 - val_precision: 0.7273 - val_recall: 0.2909\n",
      "Epoch 3/25\n",
      "33/33 [==============================] - ETA: 0s - loss: 0.6749 - accuracy: 0.6712 - auc: 0.7121 - precision: 0.6584 - recall: 0.7115\n",
      "Epoch 3: val_accuracy improved from 0.59091 to 0.67273, saving model to ../assets/saved_models\\\n"
     ]
    },
    {
     "name": "stderr",
     "output_type": "stream",
     "text": [
      "WARNING:absl:Found untraced functions such as _jit_compiled_convolution_op while saving (showing 1 of 1). These functions will not be directly callable after loading.\n"
     ]
    },
    {
     "name": "stdout",
     "output_type": "stream",
     "text": [
      "INFO:tensorflow:Assets written to: ../assets/saved_models\\assets\n"
     ]
    },
    {
     "name": "stderr",
     "output_type": "stream",
     "text": [
      "INFO:tensorflow:Assets written to: ../assets/saved_models\\assets\n"
     ]
    },
    {
     "name": "stdout",
     "output_type": "stream",
     "text": [
      "\n",
      "Epoch 3: val_recall improved from 0.29091 to 0.54545, saving model to ../assets/saved_models\\best_recall_model\n"
     ]
    },
    {
     "name": "stderr",
     "output_type": "stream",
     "text": [
      "WARNING:absl:Found untraced functions such as _jit_compiled_convolution_op while saving (showing 1 of 1). These functions will not be directly callable after loading.\n"
     ]
    },
    {
     "name": "stdout",
     "output_type": "stream",
     "text": [
      "INFO:tensorflow:Assets written to: ../assets/saved_models\\best_recall_model\\assets\n"
     ]
    },
    {
     "name": "stderr",
     "output_type": "stream",
     "text": [
      "INFO:tensorflow:Assets written to: ../assets/saved_models\\best_recall_model\\assets\n"
     ]
    },
    {
     "name": "stdout",
     "output_type": "stream",
     "text": [
      "33/33 [==============================] - 127s 4s/step - loss: 0.6749 - accuracy: 0.6712 - auc: 0.7121 - precision: 0.6584 - recall: 0.7115 - val_loss: 0.6403 - val_accuracy: 0.6727 - val_auc: 0.7617 - val_precision: 0.7317 - val_recall: 0.5455\n",
      "Epoch 4/25\n",
      "33/33 [==============================] - ETA: 0s - loss: 0.6483 - accuracy: 0.6981 - auc: 0.7380 - precision: 0.6807 - recall: 0.7462\n",
      "Epoch 4: val_accuracy did not improve from 0.67273\n",
      "\n",
      "Epoch 4: val_recall improved from 0.54545 to 0.60000, saving model to ../assets/saved_models\\best_recall_model\n"
     ]
    },
    {
     "name": "stderr",
     "output_type": "stream",
     "text": [
      "WARNING:absl:Found untraced functions such as _jit_compiled_convolution_op while saving (showing 1 of 1). These functions will not be directly callable after loading.\n"
     ]
    },
    {
     "name": "stdout",
     "output_type": "stream",
     "text": [
      "INFO:tensorflow:Assets written to: ../assets/saved_models\\best_recall_model\\assets\n"
     ]
    },
    {
     "name": "stderr",
     "output_type": "stream",
     "text": [
      "INFO:tensorflow:Assets written to: ../assets/saved_models\\best_recall_model\\assets\n"
     ]
    },
    {
     "name": "stdout",
     "output_type": "stream",
     "text": [
      "33/33 [==============================] - 122s 4s/step - loss: 0.6483 - accuracy: 0.6981 - auc: 0.7380 - precision: 0.6807 - recall: 0.7462 - val_loss: 0.6371 - val_accuracy: 0.6545 - val_auc: 0.7582 - val_precision: 0.6735 - val_recall: 0.6000\n",
      "Epoch 5/25\n",
      "33/33 [==============================] - ETA: 0s - loss: 0.6484 - accuracy: 0.6788 - auc: 0.7398 - precision: 0.6637 - recall: 0.7250\n",
      "Epoch 5: val_accuracy did not improve from 0.67273\n",
      "\n",
      "Epoch 5: val_recall improved from 0.60000 to 0.61818, saving model to ../assets/saved_models\\best_recall_model\n"
     ]
    },
    {
     "name": "stderr",
     "output_type": "stream",
     "text": [
      "WARNING:absl:Found untraced functions such as _jit_compiled_convolution_op while saving (showing 1 of 1). These functions will not be directly callable after loading.\n"
     ]
    },
    {
     "name": "stdout",
     "output_type": "stream",
     "text": [
      "INFO:tensorflow:Assets written to: ../assets/saved_models\\best_recall_model\\assets\n"
     ]
    },
    {
     "name": "stderr",
     "output_type": "stream",
     "text": [
      "INFO:tensorflow:Assets written to: ../assets/saved_models\\best_recall_model\\assets\n"
     ]
    },
    {
     "name": "stdout",
     "output_type": "stream",
     "text": [
      "33/33 [==============================] - 124s 4s/step - loss: 0.6484 - accuracy: 0.6788 - auc: 0.7398 - precision: 0.6637 - recall: 0.7250 - val_loss: 0.6263 - val_accuracy: 0.6364 - val_auc: 0.7430 - val_precision: 0.6415 - val_recall: 0.6182\n",
      "Epoch 6/25\n",
      "33/33 [==============================] - ETA: 0s - loss: 0.5917 - accuracy: 0.7135 - auc: 0.7881 - precision: 0.7018 - recall: 0.7423\n",
      "Epoch 6: val_accuracy improved from 0.67273 to 0.69091, saving model to ../assets/saved_models\\\n"
     ]
    },
    {
     "name": "stderr",
     "output_type": "stream",
     "text": [
      "WARNING:absl:Found untraced functions such as _jit_compiled_convolution_op while saving (showing 1 of 1). These functions will not be directly callable after loading.\n"
     ]
    },
    {
     "name": "stdout",
     "output_type": "stream",
     "text": [
      "INFO:tensorflow:Assets written to: ../assets/saved_models\\assets\n"
     ]
    },
    {
     "name": "stderr",
     "output_type": "stream",
     "text": [
      "INFO:tensorflow:Assets written to: ../assets/saved_models\\assets\n"
     ]
    },
    {
     "name": "stdout",
     "output_type": "stream",
     "text": [
      "\n",
      "Epoch 6: val_recall improved from 0.61818 to 0.69091, saving model to ../assets/saved_models\\best_recall_model\n"
     ]
    },
    {
     "name": "stderr",
     "output_type": "stream",
     "text": [
      "WARNING:absl:Found untraced functions such as _jit_compiled_convolution_op while saving (showing 1 of 1). These functions will not be directly callable after loading.\n"
     ]
    },
    {
     "name": "stdout",
     "output_type": "stream",
     "text": [
      "INFO:tensorflow:Assets written to: ../assets/saved_models\\best_recall_model\\assets\n"
     ]
    },
    {
     "name": "stderr",
     "output_type": "stream",
     "text": [
      "INFO:tensorflow:Assets written to: ../assets/saved_models\\best_recall_model\\assets\n"
     ]
    },
    {
     "name": "stdout",
     "output_type": "stream",
     "text": [
      "33/33 [==============================] - 124s 4s/step - loss: 0.5917 - accuracy: 0.7135 - auc: 0.7881 - precision: 0.7018 - recall: 0.7423 - val_loss: 0.6070 - val_accuracy: 0.6909 - val_auc: 0.7894 - val_precision: 0.6909 - val_recall: 0.6909\n",
      "Epoch 7/25\n",
      "33/33 [==============================] - ETA: 0s - loss: 0.5847 - accuracy: 0.7308 - auc: 0.7956 - precision: 0.7158 - recall: 0.7654\n",
      "Epoch 7: val_accuracy did not improve from 0.69091\n",
      "\n",
      "Epoch 7: val_recall did not improve from 0.69091\n",
      "33/33 [==============================] - 117s 4s/step - loss: 0.5847 - accuracy: 0.7308 - auc: 0.7956 - precision: 0.7158 - recall: 0.7654 - val_loss: 0.5922 - val_accuracy: 0.6636 - val_auc: 0.7574 - val_precision: 0.7045 - val_recall: 0.5636\n",
      "Epoch 8/25\n",
      "33/33 [==============================] - ETA: 0s - loss: 0.5771 - accuracy: 0.7442 - auc: 0.8049 - precision: 0.7309 - recall: 0.7731\n",
      "Epoch 8: val_accuracy improved from 0.69091 to 0.74545, saving model to ../assets/saved_models\\\n"
     ]
    },
    {
     "name": "stderr",
     "output_type": "stream",
     "text": [
      "WARNING:absl:Found untraced functions such as _jit_compiled_convolution_op while saving (showing 1 of 1). These functions will not be directly callable after loading.\n"
     ]
    },
    {
     "name": "stdout",
     "output_type": "stream",
     "text": [
      "INFO:tensorflow:Assets written to: ../assets/saved_models\\assets\n"
     ]
    },
    {
     "name": "stderr",
     "output_type": "stream",
     "text": [
      "INFO:tensorflow:Assets written to: ../assets/saved_models\\assets\n"
     ]
    },
    {
     "name": "stdout",
     "output_type": "stream",
     "text": [
      "\n",
      "Epoch 8: val_recall improved from 0.69091 to 0.70909, saving model to ../assets/saved_models\\best_recall_model\n"
     ]
    },
    {
     "name": "stderr",
     "output_type": "stream",
     "text": [
      "WARNING:absl:Found untraced functions such as _jit_compiled_convolution_op while saving (showing 1 of 1). These functions will not be directly callable after loading.\n"
     ]
    },
    {
     "name": "stdout",
     "output_type": "stream",
     "text": [
      "INFO:tensorflow:Assets written to: ../assets/saved_models\\best_recall_model\\assets\n"
     ]
    },
    {
     "name": "stderr",
     "output_type": "stream",
     "text": [
      "INFO:tensorflow:Assets written to: ../assets/saved_models\\best_recall_model\\assets\n"
     ]
    },
    {
     "name": "stdout",
     "output_type": "stream",
     "text": [
      "33/33 [==============================] - 133s 4s/step - loss: 0.5771 - accuracy: 0.7442 - auc: 0.8049 - precision: 0.7309 - recall: 0.7731 - val_loss: 0.5785 - val_accuracy: 0.7455 - val_auc: 0.8160 - val_precision: 0.7647 - val_recall: 0.7091\n",
      "Epoch 9/25\n",
      "33/33 [==============================] - ETA: 0s - loss: 0.5574 - accuracy: 0.7250 - auc: 0.8052 - precision: 0.7135 - recall: 0.7519\n",
      "Epoch 9: val_accuracy did not improve from 0.74545\n",
      "\n",
      "Epoch 9: val_recall did not improve from 0.70909\n",
      "33/33 [==============================] - 121s 4s/step - loss: 0.5574 - accuracy: 0.7250 - auc: 0.8052 - precision: 0.7135 - recall: 0.7519 - val_loss: 0.5692 - val_accuracy: 0.7182 - val_auc: 0.8150 - val_precision: 0.7400 - val_recall: 0.6727\n",
      "Epoch 10/25\n",
      "33/33 [==============================] - ETA: 0s - loss: 0.5491 - accuracy: 0.7413 - auc: 0.8220 - precision: 0.7311 - recall: 0.7635\n",
      "Epoch 10: val_accuracy improved from 0.74545 to 0.76364, saving model to ../assets/saved_models\\\n"
     ]
    },
    {
     "name": "stderr",
     "output_type": "stream",
     "text": [
      "WARNING:absl:Found untraced functions such as _jit_compiled_convolution_op while saving (showing 1 of 1). These functions will not be directly callable after loading.\n"
     ]
    },
    {
     "name": "stdout",
     "output_type": "stream",
     "text": [
      "INFO:tensorflow:Assets written to: ../assets/saved_models\\assets\n"
     ]
    },
    {
     "name": "stderr",
     "output_type": "stream",
     "text": [
      "INFO:tensorflow:Assets written to: ../assets/saved_models\\assets\n"
     ]
    },
    {
     "name": "stdout",
     "output_type": "stream",
     "text": [
      "\n",
      "Epoch 10: val_recall improved from 0.70909 to 0.80000, saving model to ../assets/saved_models\\best_recall_model\n"
     ]
    },
    {
     "name": "stderr",
     "output_type": "stream",
     "text": [
      "WARNING:absl:Found untraced functions such as _jit_compiled_convolution_op while saving (showing 1 of 1). These functions will not be directly callable after loading.\n"
     ]
    },
    {
     "name": "stdout",
     "output_type": "stream",
     "text": [
      "INFO:tensorflow:Assets written to: ../assets/saved_models\\best_recall_model\\assets\n"
     ]
    },
    {
     "name": "stderr",
     "output_type": "stream",
     "text": [
      "INFO:tensorflow:Assets written to: ../assets/saved_models\\best_recall_model\\assets\n"
     ]
    },
    {
     "name": "stdout",
     "output_type": "stream",
     "text": [
      "33/33 [==============================] - 126s 4s/step - loss: 0.5491 - accuracy: 0.7413 - auc: 0.8220 - precision: 0.7311 - recall: 0.7635 - val_loss: 0.5541 - val_accuracy: 0.7636 - val_auc: 0.8264 - val_precision: 0.7458 - val_recall: 0.8000\n",
      "Epoch 11/25\n",
      "33/33 [==============================] - ETA: 0s - loss: 0.4984 - accuracy: 0.7635 - auc: 0.8484 - precision: 0.7473 - recall: 0.7962\n",
      "Epoch 11: val_accuracy improved from 0.76364 to 0.77273, saving model to ../assets/saved_models\\\n"
     ]
    },
    {
     "name": "stderr",
     "output_type": "stream",
     "text": [
      "WARNING:absl:Found untraced functions such as _jit_compiled_convolution_op while saving (showing 1 of 1). These functions will not be directly callable after loading.\n"
     ]
    },
    {
     "name": "stdout",
     "output_type": "stream",
     "text": [
      "INFO:tensorflow:Assets written to: ../assets/saved_models\\assets\n"
     ]
    },
    {
     "name": "stderr",
     "output_type": "stream",
     "text": [
      "INFO:tensorflow:Assets written to: ../assets/saved_models\\assets\n"
     ]
    },
    {
     "name": "stdout",
     "output_type": "stream",
     "text": [
      "\n",
      "Epoch 11: val_recall improved from 0.80000 to 0.81818, saving model to ../assets/saved_models\\best_recall_model\n"
     ]
    },
    {
     "name": "stderr",
     "output_type": "stream",
     "text": [
      "WARNING:absl:Found untraced functions such as _jit_compiled_convolution_op while saving (showing 1 of 1). These functions will not be directly callable after loading.\n"
     ]
    },
    {
     "name": "stdout",
     "output_type": "stream",
     "text": [
      "INFO:tensorflow:Assets written to: ../assets/saved_models\\best_recall_model\\assets\n"
     ]
    },
    {
     "name": "stderr",
     "output_type": "stream",
     "text": [
      "INFO:tensorflow:Assets written to: ../assets/saved_models\\best_recall_model\\assets\n"
     ]
    },
    {
     "name": "stdout",
     "output_type": "stream",
     "text": [
      "33/33 [==============================] - 127s 4s/step - loss: 0.4984 - accuracy: 0.7635 - auc: 0.8484 - precision: 0.7473 - recall: 0.7962 - val_loss: 0.5339 - val_accuracy: 0.7727 - val_auc: 0.8441 - val_precision: 0.7500 - val_recall: 0.8182\n",
      "Epoch 12/25\n",
      "33/33 [==============================] - ETA: 0s - loss: 0.4959 - accuracy: 0.7673 - auc: 0.8477 - precision: 0.7518 - recall: 0.7981\n",
      "Epoch 12: val_accuracy did not improve from 0.77273\n",
      "\n",
      "Epoch 12: val_recall did not improve from 0.81818\n",
      "33/33 [==============================] - 119s 4s/step - loss: 0.4959 - accuracy: 0.7673 - auc: 0.8477 - precision: 0.7518 - recall: 0.7981 - val_loss: 0.5270 - val_accuracy: 0.7455 - val_auc: 0.8296 - val_precision: 0.7755 - val_recall: 0.6909\n",
      "Epoch 13/25\n",
      "33/33 [==============================] - ETA: 0s - loss: 0.4926 - accuracy: 0.7817 - auc: 0.8537 - precision: 0.7769 - recall: 0.7904\n",
      "Epoch 13: val_accuracy did not improve from 0.77273\n",
      "\n",
      "Epoch 13: val_recall did not improve from 0.81818\n",
      "33/33 [==============================] - 119s 4s/step - loss: 0.4926 - accuracy: 0.7817 - auc: 0.8537 - precision: 0.7769 - recall: 0.7904 - val_loss: 0.5092 - val_accuracy: 0.7727 - val_auc: 0.8340 - val_precision: 0.7586 - val_recall: 0.8000\n",
      "Epoch 14/25\n",
      "33/33 [==============================] - ETA: 0s - loss: 0.4923 - accuracy: 0.7644 - auc: 0.8506 - precision: 0.7505 - recall: 0.7923\n",
      "Epoch 14: val_accuracy improved from 0.77273 to 0.78182, saving model to ../assets/saved_models\\\n"
     ]
    },
    {
     "name": "stderr",
     "output_type": "stream",
     "text": [
      "WARNING:absl:Found untraced functions such as _jit_compiled_convolution_op while saving (showing 1 of 1). These functions will not be directly callable after loading.\n"
     ]
    },
    {
     "name": "stdout",
     "output_type": "stream",
     "text": [
      "INFO:tensorflow:Assets written to: ../assets/saved_models\\assets\n"
     ]
    },
    {
     "name": "stderr",
     "output_type": "stream",
     "text": [
      "INFO:tensorflow:Assets written to: ../assets/saved_models\\assets\n"
     ]
    },
    {
     "name": "stdout",
     "output_type": "stream",
     "text": [
      "\n",
      "Epoch 14: val_recall did not improve from 0.81818\n",
      "33/33 [==============================] - 121s 4s/step - loss: 0.4923 - accuracy: 0.7644 - auc: 0.8506 - precision: 0.7505 - recall: 0.7923 - val_loss: 0.5066 - val_accuracy: 0.7818 - val_auc: 0.8334 - val_precision: 0.7925 - val_recall: 0.7636\n",
      "Epoch 15/25\n",
      "33/33 [==============================] - ETA: 0s - loss: 0.5177 - accuracy: 0.7606 - auc: 0.8392 - precision: 0.7542 - recall: 0.7731\n",
      "Epoch 15: val_accuracy improved from 0.78182 to 0.80909, saving model to ../assets/saved_models\\\n"
     ]
    },
    {
     "name": "stderr",
     "output_type": "stream",
     "text": [
      "WARNING:absl:Found untraced functions such as _jit_compiled_convolution_op while saving (showing 1 of 1). These functions will not be directly callable after loading.\n"
     ]
    },
    {
     "name": "stdout",
     "output_type": "stream",
     "text": [
      "INFO:tensorflow:Assets written to: ../assets/saved_models\\assets\n"
     ]
    },
    {
     "name": "stderr",
     "output_type": "stream",
     "text": [
      "INFO:tensorflow:Assets written to: ../assets/saved_models\\assets\n"
     ]
    },
    {
     "name": "stdout",
     "output_type": "stream",
     "text": [
      "\n",
      "Epoch 15: val_recall improved from 0.81818 to 0.87273, saving model to ../assets/saved_models\\best_recall_model\n"
     ]
    },
    {
     "name": "stderr",
     "output_type": "stream",
     "text": [
      "WARNING:absl:Found untraced functions such as _jit_compiled_convolution_op while saving (showing 1 of 1). These functions will not be directly callable after loading.\n"
     ]
    },
    {
     "name": "stdout",
     "output_type": "stream",
     "text": [
      "INFO:tensorflow:Assets written to: ../assets/saved_models\\best_recall_model\\assets\n"
     ]
    },
    {
     "name": "stderr",
     "output_type": "stream",
     "text": [
      "INFO:tensorflow:Assets written to: ../assets/saved_models\\best_recall_model\\assets\n"
     ]
    },
    {
     "name": "stdout",
     "output_type": "stream",
     "text": [
      "33/33 [==============================] - 127s 4s/step - loss: 0.5177 - accuracy: 0.7606 - auc: 0.8392 - precision: 0.7542 - recall: 0.7731 - val_loss: 0.4798 - val_accuracy: 0.8091 - val_auc: 0.8602 - val_precision: 0.7742 - val_recall: 0.8727\n",
      "Epoch 16/25\n",
      "33/33 [==============================] - ETA: 0s - loss: 0.5064 - accuracy: 0.7779 - auc: 0.8494 - precision: 0.7651 - recall: 0.8019\n",
      "Epoch 16: val_accuracy did not improve from 0.80909\n",
      "\n",
      "Epoch 16: val_recall improved from 0.87273 to 0.90909, saving model to ../assets/saved_models\\best_recall_model\n"
     ]
    },
    {
     "name": "stderr",
     "output_type": "stream",
     "text": [
      "WARNING:absl:Found untraced functions such as _jit_compiled_convolution_op while saving (showing 1 of 1). These functions will not be directly callable after loading.\n"
     ]
    },
    {
     "name": "stdout",
     "output_type": "stream",
     "text": [
      "INFO:tensorflow:Assets written to: ../assets/saved_models\\best_recall_model\\assets\n"
     ]
    },
    {
     "name": "stderr",
     "output_type": "stream",
     "text": [
      "INFO:tensorflow:Assets written to: ../assets/saved_models\\best_recall_model\\assets\n"
     ]
    },
    {
     "name": "stdout",
     "output_type": "stream",
     "text": [
      "33/33 [==============================] - 125s 4s/step - loss: 0.5064 - accuracy: 0.7779 - auc: 0.8494 - precision: 0.7651 - recall: 0.8019 - val_loss: 0.5431 - val_accuracy: 0.7000 - val_auc: 0.8407 - val_precision: 0.6410 - val_recall: 0.9091\n",
      "Epoch 17/25\n",
      "33/33 [==============================] - ETA: 0s - loss: 0.5063 - accuracy: 0.7635 - auc: 0.8467 - precision: 0.7429 - recall: 0.8058\n",
      "Epoch 17: val_accuracy did not improve from 0.80909\n",
      "\n",
      "Epoch 17: val_recall did not improve from 0.90909\n",
      "33/33 [==============================] - 119s 4s/step - loss: 0.5063 - accuracy: 0.7635 - auc: 0.8467 - precision: 0.7429 - recall: 0.8058 - val_loss: 0.5162 - val_accuracy: 0.7636 - val_auc: 0.8339 - val_precision: 0.7231 - val_recall: 0.8545\n",
      "Epoch 18/25\n",
      "33/33 [==============================] - ETA: 0s - loss: 0.5113 - accuracy: 0.7654 - auc: 0.8426 - precision: 0.7546 - recall: 0.7865\n",
      "Epoch 18: val_accuracy did not improve from 0.80909\n",
      "\n",
      "Epoch 18: val_recall did not improve from 0.90909\n",
      "33/33 [==============================] - 119s 4s/step - loss: 0.5113 - accuracy: 0.7654 - auc: 0.8426 - precision: 0.7546 - recall: 0.7865 - val_loss: 0.5010 - val_accuracy: 0.7364 - val_auc: 0.8360 - val_precision: 0.7708 - val_recall: 0.6727\n",
      "Epoch 19/25\n",
      "33/33 [==============================] - ETA: 0s - loss: 0.4923 - accuracy: 0.7885 - auc: 0.8547 - precision: 0.7768 - recall: 0.8096\n",
      "Epoch 19: val_accuracy did not improve from 0.80909\n",
      "\n",
      "Epoch 19: val_recall did not improve from 0.90909\n",
      "33/33 [==============================] - 119s 4s/step - loss: 0.4923 - accuracy: 0.7885 - auc: 0.8547 - precision: 0.7768 - recall: 0.8096 - val_loss: 0.4665 - val_accuracy: 0.8091 - val_auc: 0.8626 - val_precision: 0.7931 - val_recall: 0.8364\n",
      "Epoch 20/25\n",
      "33/33 [==============================] - ETA: 0s - loss: 0.4821 - accuracy: 0.7817 - auc: 0.8560 - precision: 0.7698 - recall: 0.8038\n",
      "Epoch 20: val_accuracy did not improve from 0.80909\n",
      "\n",
      "Epoch 20: val_recall did not improve from 0.90909\n",
      "33/33 [==============================] - 120s 4s/step - loss: 0.4821 - accuracy: 0.7817 - auc: 0.8560 - precision: 0.7698 - recall: 0.8038 - val_loss: 0.5213 - val_accuracy: 0.8000 - val_auc: 0.8388 - val_precision: 0.7705 - val_recall: 0.8545\n",
      "Epoch 21/25\n",
      "33/33 [==============================] - ETA: 0s - loss: 0.5003 - accuracy: 0.7808 - auc: 0.8532 - precision: 0.7645 - recall: 0.8115\n",
      "Epoch 21: val_accuracy did not improve from 0.80909\n",
      "\n",
      "Epoch 21: val_recall did not improve from 0.90909\n",
      "33/33 [==============================] - 117s 4s/step - loss: 0.5003 - accuracy: 0.7808 - auc: 0.8532 - precision: 0.7645 - recall: 0.8115 - val_loss: 0.5269 - val_accuracy: 0.7727 - val_auc: 0.8405 - val_precision: 0.7778 - val_recall: 0.7636\n",
      "Epoch 22/25\n",
      "33/33 [==============================] - ETA: 0s - loss: 0.4597 - accuracy: 0.7942 - auc: 0.8724 - precision: 0.7931 - recall: 0.7962\n",
      "Epoch 22: val_accuracy did not improve from 0.80909\n",
      "\n",
      "Epoch 22: val_recall did not improve from 0.90909\n",
      "33/33 [==============================] - 118s 4s/step - loss: 0.4597 - accuracy: 0.7942 - auc: 0.8724 - precision: 0.7931 - recall: 0.7962 - val_loss: 0.5536 - val_accuracy: 0.7091 - val_auc: 0.8180 - val_precision: 0.6885 - val_recall: 0.7636\n",
      "Epoch 23/25\n",
      "33/33 [==============================] - ETA: 0s - loss: 0.4760 - accuracy: 0.7798 - auc: 0.8624 - precision: 0.7720 - recall: 0.7942\n",
      "Epoch 23: val_accuracy did not improve from 0.80909\n",
      "\n",
      "Epoch 23: val_recall did not improve from 0.90909\n",
      "33/33 [==============================] - 116s 4s/step - loss: 0.4760 - accuracy: 0.7798 - auc: 0.8624 - precision: 0.7720 - recall: 0.7942 - val_loss: 0.4695 - val_accuracy: 0.8091 - val_auc: 0.8689 - val_precision: 0.8036 - val_recall: 0.8182\n",
      "Epoch 24/25\n",
      "33/33 [==============================] - ETA: 0s - loss: 0.4418 - accuracy: 0.8029 - auc: 0.8828 - precision: 0.7922 - recall: 0.8212\n",
      "Epoch 24: val_accuracy did not improve from 0.80909\n",
      "\n",
      "Epoch 24: val_recall improved from 0.90909 to 0.92727, saving model to ../assets/saved_models\\best_recall_model\n"
     ]
    },
    {
     "name": "stderr",
     "output_type": "stream",
     "text": [
      "WARNING:absl:Found untraced functions such as _jit_compiled_convolution_op while saving (showing 1 of 1). These functions will not be directly callable after loading.\n"
     ]
    },
    {
     "name": "stdout",
     "output_type": "stream",
     "text": [
      "INFO:tensorflow:Assets written to: ../assets/saved_models\\best_recall_model\\assets\n"
     ]
    },
    {
     "name": "stderr",
     "output_type": "stream",
     "text": [
      "INFO:tensorflow:Assets written to: ../assets/saved_models\\best_recall_model\\assets\n"
     ]
    },
    {
     "name": "stdout",
     "output_type": "stream",
     "text": [
      "33/33 [==============================] - 120s 4s/step - loss: 0.4418 - accuracy: 0.8029 - auc: 0.8828 - precision: 0.7922 - recall: 0.8212 - val_loss: 0.6041 - val_accuracy: 0.7364 - val_auc: 0.8410 - val_precision: 0.6711 - val_recall: 0.9273\n",
      "Epoch 25/25\n",
      "33/33 [==============================] - ETA: 0s - loss: 0.4634 - accuracy: 0.7933 - auc: 0.8714 - precision: 0.7872 - recall: 0.8038\n",
      "Epoch 25: val_accuracy did not improve from 0.80909\n",
      "\n",
      "Epoch 25: val_recall did not improve from 0.92727\n",
      "33/33 [==============================] - 118s 4s/step - loss: 0.4634 - accuracy: 0.7933 - auc: 0.8714 - precision: 0.7872 - recall: 0.8038 - val_loss: 0.5899 - val_accuracy: 0.7455 - val_auc: 0.8223 - val_precision: 0.7015 - val_recall: 0.8545\n"
     ]
    }
   ],
   "source": [
    "# add callbacks\n",
    "checkpoint_path='../assets/saved_models/'\n",
    "checkpoint_accuracy = ModelCheckpoint(checkpoint_path, monitor='val_accuracy', save_best_only=True, verbose=1, save_weights_only=False)\n",
    "checkpoint_recall = ModelCheckpoint(checkpoint_path + 'best_recall_model', monitor='val_recall', save_best_only=True, verbose=1, \\\n",
    "                                    save_weights_only=False, mode='max')\n",
    "earlystopping = EarlyStopping(restore_best_weights=True, monitor='val_accuracy', min_delta=0, patience=15, verbose=1, mode='auto')\n",
    "\n",
    "# fit model\n",
    "history = model.fit(train_generator, epochs=25, validation_data=validation_generator, callbacks=[earlystopping, checkpoint_accuracy, checkpoint_recall])"
   ]
  },
  {
   "cell_type": "markdown",
   "id": "3e9bbe0a-aa00-40c5-9532-034c1ac2e33b",
   "metadata": {},
   "source": [
    "___\n",
    "### Model Evaluation\n",
    "\n",
    "The model's performance over epochs will be monitored to watch for steady improvements and avoiding oscillations that can indicate overfitting or underfitting\n",
    "\n",
    "When happy the model is not overfitting or underfitting, the model's predictions can be evaluated on the test set.  For this problem, determining if a cargo hold is clean or dirty, the priority is to reduce false negatives, instances where the prediction that the hold is clean is wrong.  The outcome of telling a ship operator that their ship is clean when it is not, will lead to overconfidence, booking cargoes the ship might not be able to load, leading to damages in the tens or hundreds of thousands of dollars (time, cleaning materials, and labor).  False negatives are optimized when recall closes in on 1, indicating the model correctly identified all the positive instances.\n",
    "\n",
    "Finally the model's ROC AUC score can be assessed as well as the ROC AUC curve.  This graph will help determine how well the model is at differentiating between the classes as well as providing a measure to use against other modes.  The perfect outcome is 1.00 and a curve that looks like the left side of a square.  A model with those results is perfectly distinguishing the classes.  Though, that result would likely raise more concerns.  On the other hand, a model with  ROUC AUC score of 0.5 or a curve starting at 0,0 at a 45 degree angle would mean the model can't distinguish at all."
   ]
  },
  {
   "cell_type": "code",
   "execution_count": 6,
   "id": "e88dd485-6e44-4a34-9da5-3f85b15eb2cc",
   "metadata": {},
   "outputs": [
    {
     "data": {
      "image/png": "[encoded data removed]",
      "text/plain": [
       "<Figure size 1000x1000 with 1 Axes>"
      ]
     },
     "metadata": {},
     "output_type": "display_data"
    }
   ],
   "source": [
    "# plotting the training and validation metrics over epochs\n",
    "plt.figure(figsize=(10,10))\n",
    "plt.plot(history.history['loss'], label='Training Loss', )\n",
    "plt.plot(history.history['val_loss'], label='Validation Loss')\n",
    "plt.plot(history.history['accuracy'], label='Training Accuracy')\n",
    "plt.plot(history.history['val_accuracy'], label='Validation Accuracy')\n",
    "plt.plot(history.history['recall'], label='Training Recall')\n",
    "plt.plot(history.history['val_recall'], label='Validation Recall')\n",
    "plt.title('Evaluation over Epochs')\n",
    "plt.xlabel('Epochs')\n",
    "plt.ylabel('Metrics')\n",
    "plt.legend()\n",
    "plt.show()"
   ]
  },
  {
   "cell_type": "code",
   "execution_count": 7,
   "id": "a548cbfc-ddbc-4896-b130-20cbc7fa94ab",
   "metadata": {},
   "outputs": [
    {
     "name": "stderr",
     "output_type": "stream",
     "text": [
      "WARNING:absl:Found untraced functions such as _jit_compiled_convolution_op while saving (showing 1 of 1). These functions will not be directly callable after loading.\n"
     ]
    },
    {
     "name": "stdout",
     "output_type": "stream",
     "text": [
      "INFO:tensorflow:Assets written to: ../assets/saved_models/good_model_2\\assets\n"
     ]
    },
    {
     "name": "stderr",
     "output_type": "stream",
     "text": [
      "INFO:tensorflow:Assets written to: ../assets/saved_models/good_model_2\\assets\n"
     ]
    }
   ],
   "source": [
    "model.save('../assets/saved_models/good_model_2')"
   ]
  },
  {
   "cell_type": "code",
   "execution_count": 8,
   "id": "c7e1b600-ad38-4abc-9bb0-ab2440c1fb99",
   "metadata": {},
   "outputs": [
    {
     "name": "stdout",
     "output_type": "stream",
     "text": [
      "Found 110 images belonging to 2 classes.\n",
      "{'clean': 0, 'dirty': 1}\n"
     ]
    }
   ],
   "source": [
    "# feed the test dataset to the model to generate predictions\n",
    "test_datagen = ImageDataGenerator(\n",
    "    rescale=1./255 # This is a necessary preprocessing step\n",
    ")\n",
    "test_generator = test_datagen.flow_from_directory(\n",
    "    '../data/test/',\n",
    "    target_size=model_target_size,\n",
    "    batch_size=model_batch_size,\n",
    "    class_mode=None,\n",
    "    shuffle=False\n",
    ")\n",
    "\n",
    "print(test_generator.class_indices)"
   ]
  },
  {
   "cell_type": "code",
   "execution_count": 9,
   "id": "eb9438e9-375b-458c-aefa-e5355292c9f4",
   "metadata": {},
   "outputs": [
    {
     "name": "stdout",
     "output_type": "stream",
     "text": [
      "4/4 [==============================] - 13s 2s/step\n",
      "Image clean\\12c943_52556a070d844543b57583b7291c93a5~mv2.jpg predicted as class: [0]\n",
      "Image clean\\1519ac76-9cfd-47f0-bf77-5dc3a1147adc.jpg predicted as class: [0]\n",
      "Image clean\\1f761525-88f0-4260-93f5-e54363e0a015.jpg predicted as class: [0]\n",
      "Image clean\\1fa83d4b-9b3b-4be9-abd2-fdd04c09a3e2.jpg predicted as class: [1]\n",
      "Image clean\\27d568c2-6951-4792-b1a8-d7f302bc7675.jpg predicted as class: [0]\n",
      "Image clean\\298de5fc-414c-4c7e-a023-d3651e001672.jpg predicted as class: [1]\n",
      "Image clean\\30799286-fc80-4789-9601-d7d9e6cc20c8.jpg predicted as class: [0]\n",
      "Image clean\\3325c33c-1417-4378-8068-31838ac99b3c.jpg predicted as class: [0]\n",
      "Image clean\\3ed7e6fc-84ec-48ec-b594-12a8f8a7cf5b.jpg predicted as class: [1]\n",
      "Image clean\\44765f2b-2795-4b74-ba89-94284f4f532d.jpg predicted as class: [1]\n",
      "Image clean\\46474608_1983203988393520_7337535301151096832_n.jpg predicted as class: [1]\n",
      "Image clean\\46624108_1983204011726851_8909396883701497856_n.jpg predicted as class: [1]\n",
      "Image clean\\46730521_1983204658393453_867281775418671104_n.jpg predicted as class: [1]\n",
      "Image clean\\47339471_2002131543167431_7288817233709498368_n.jpg predicted as class: [1]\n",
      "Image clean\\47341524_2002131636500755_7919360124009840640_n.jpg predicted as class: [1]\n",
      "Image clean\\47681623_2008560565857862_5141988722840961024_n.jpg predicted as class: [0]\n",
      "Image clean\\47689375_2008561219191130_5570244460295487488_n.jpg predicted as class: [0]\n",
      "Image clean\\4ef21ee5-d2f8-4772-a78e-defd058bbee8.jpg predicted as class: [0]\n",
      "Image clean\\50a5df05-dd31-4fc7-8219-c2162365fe18.jpg predicted as class: [0]\n",
      "Image clean\\51a1b332-3ad9-46ae-af1d-9f322e2739e6.jpg predicted as class: [1]\n",
      "Image clean\\638f7904-ee98-45c3-9ab8-68e972314509.jpg predicted as class: [0]\n",
      "Image clean\\67838661_2395345833845998_145335804896477184_n.jpg predicted as class: [0]\n",
      "Image clean\\6f0f176f-b39b-4e44-ba3d-4f672b14ffe7.jpg predicted as class: [1]\n",
      "Image clean\\6f8b15ef-f7ec-483b-9d56-e6e8b0835d67.jpg predicted as class: [0]\n",
      "Image clean\\6fc42e5b-20e0-4bce-83b8-dffde04c3214.jpg predicted as class: [1]\n",
      "Image clean\\7e457a8a-9ea9-47f4-a9b3-6b9d1850e1c7.jpg predicted as class: [1]\n",
      "Image clean\\7fc59086-aa40-432c-974a-661f3c75c4e5.jpg predicted as class: [1]\n",
      "Image clean\\82829ec5-2bdb-4e13-87b5-0311aab8783f.jpg predicted as class: [1]\n",
      "Image clean\\84d3b26c-a439-421c-aff1-4ba758fc816a.jpg predicted as class: [0]\n",
      "Image clean\\8b43d4e9-222a-4cea-bb4a-ecf24f836efb.jpg predicted as class: [0]\n",
      "Image clean\\987d3c15-2d78-4c9e-be94-06a24bd4f70b.jpg predicted as class: [0]\n",
      "Image clean\\99299187_2995576853822890_3730197487625961472_n.jpg predicted as class: [0]\n",
      "Image clean\\IMG-20241014-WA0153.jpg predicted as class: [0]\n",
      "Image clean\\IMG_2175.jpg predicted as class: [1]\n",
      "Image clean\\IMG_2228.jpg predicted as class: [0]\n",
      "Image clean\\IMG_2282.jpg predicted as class: [0]\n",
      "Image clean\\IMG_2287.jpg predicted as class: [1]\n",
      "Image clean\\WhatsApp Image 2024-06-08 at 01.jpg predicted as class: [0]\n",
      "Image clean\\WhatsApp Image 2024-06-08 at 02.jpg predicted as class: [0]\n",
      "Image clean\\WhatsApp+Image+2024-06-08+at+01.18.35+(2).jpeg predicted as class: [0]\n",
      "Image clean\\WhatsApp+Image+2024-06-08+at+01.18.35+(3).jpeg predicted as class: [0]\n",
      "Image clean\\WhatsApp+Image+2024-06-08+at+01.18.36.jpeg predicted as class: [0]\n",
      "Image clean\\a2a45c96-1366-4a2f-8c0b-da33254cef37.jpg predicted as class: [0]\n",
      "Image clean\\aacdf59f-f5fe-4393-920e-98c4a375db91.jpg predicted as class: [0]\n",
      "Image clean\\b3b6aadd-b136-4ab6-8e98-503312887908.jpg predicted as class: [0]\n",
      "Image clean\\c857e82a-feeb-40d4-a259-d20a8d3a4599.jpg predicted as class: [0]\n",
      "Image clean\\cargo hold 3.jpg predicted as class: [0]\n",
      "Image clean\\e9151cac-5815-4914-b7d8-95b94c12823f.jpg predicted as class: [1]\n",
      "Image clean\\ec7cd54c-9f8c-438c-9ba8-d4e991334728.jpg predicted as class: [0]\n",
      "Image clean\\f257a8e8-e780-4ffc-9c71-7733f2baee8a.jpg predicted as class: [1]\n",
      "Image clean\\f5b4d1d1-8c4c-476e-bda2-efad682c0f59.jpg predicted as class: [0]\n",
      "Image clean\\fed5972e-c03c-4ca8-84b2-d7a862b764e9.jpg predicted as class: [0]\n",
      "Image clean\\image22.jpg predicted as class: [0]\n",
      "Image clean\\image5.jpg predicted as class: [0]\n",
      "Image clean\\pro-KHhaaW2m.jpeg predicted as class: [0]\n",
      "Image dirty\\0c107874-1545-411e-9302-5faafbe610fd.jpg predicted as class: [1]\n",
      "Image dirty\\100051832_2995576943822881_4862361595679866880_n.jpg predicted as class: [1]\n",
      "Image dirty\\100560110_2995577947156114_6411977601279066112_n.jpg predicted as class: [1]\n",
      "Image dirty\\12c943_0e95ce59ba674e72a85e742df4ef6b14~mv2.jpg predicted as class: [1]\n",
      "Image dirty\\12c943_41db95433ef840a8841ff999ba5594d3~mv2.jpg predicted as class: [1]\n",
      "Image dirty\\12c943_637aad6ec5dc49158f080e2995af3914~mv2.jpg predicted as class: [1]\n",
      "Image dirty\\12c943_6e5e6bce798c4a79bdfe21b92be8e822~mv2.jpg predicted as class: [0]\n",
      "Image dirty\\12c943_80f4c486005e4b5bb497555516d3ff1e~mv2.jpg predicted as class: [1]\n",
      "Image dirty\\12c943_b20de859cd0d47e397446cbbcec30f16~mv2.jpg predicted as class: [0]\n",
      "Image dirty\\12c943_d95ecb50bf9147aeb5401518c594378a~mv2.jpg predicted as class: [1]\n",
      "Image dirty\\12c943_e081ca72bc674f848fa52b4bdae6665a~mv2.jpg predicted as class: [1]\n",
      "Image dirty\\12c943_f4c0402331dc459bbc48eeee1692a07e~mv2.jpg predicted as class: [1]\n",
      "Image dirty\\12c943_f8af22d776b9411c826425753072d905~mv2.jpg predicted as class: [1]\n",
      "Image dirty\\2fa862eb-4c46-4d74-9a51-8785b20c9c4e.jpg predicted as class: [1]\n",
      "Image dirty\\46458048_1983208705059715_3649318696481980416_n.jpg predicted as class: [1]\n",
      "Image dirty\\464605470_8596809670366219_2985455752097115405_n.jpg predicted as class: [1]\n",
      "Image dirty\\46480068_1983212595059326_3754220858915160064_n.jpg predicted as class: [1]\n",
      "Image dirty\\465031171_8598614230185763_4296054996684274349_n.jpg predicted as class: [0]\n",
      "Image dirty\\46504075_1983197618394157_8326112360372633600_n.jpg predicted as class: [1]\n",
      "Image dirty\\465049001_8598614226852430_348286118249082025_n.jpg predicted as class: [0]\n",
      "Image dirty\\46513631_1983208638393055_5004069592025268224_n.jpg predicted as class: [1]\n",
      "Image dirty\\465147508_8605904836123369_8312442195038189880_n.jpg predicted as class: [1]\n",
      "Image dirty\\465148809_8605905082790011_1283324417758121117_n.jpg predicted as class: [1]\n",
      "Image dirty\\465149979_8596809683699551_3168068499266712088_n.jpg predicted as class: [1]\n",
      "Image dirty\\465158874_8605905062790013_6027082673576362744_n.jpg predicted as class: [1]\n",
      "Image dirty\\465236596_8605904819456704_4747615728701579437_n.jpg predicted as class: [0]\n",
      "Image dirty\\465251405_8603877836326069_4670818695280815584_n.jpg predicted as class: [1]\n",
      "Image dirty\\465278196_8605905306123322_1374255042941203479_n.jpg predicted as class: [1]\n",
      "Image dirty\\465453505_8605905322789987_6267472293927772884_n.jpg predicted as class: [0]\n",
      "Image dirty\\46675044_1983208488393070_2248909549803143168_n.jpg predicted as class: [1]\n",
      "Image dirty\\46697409_1983212825059303_1083552104829681664_n.jpg predicted as class: [1]\n",
      "Image dirty\\48423984_2026951490685436_8128266208005849088_n.jpg predicted as class: [1]\n",
      "Image dirty\\50872917_2076377809076137_2151994965683601408_n.jpg predicted as class: [1]\n",
      "Image dirty\\51161360_2076377785742806_2462633191240892416_n.jpg predicted as class: [1]\n",
      "Image dirty\\64978478_2307432265970689_4037735996631023616_n.jpg predicted as class: [1]\n",
      "Image dirty\\65158843_2307432219304027_4243731132182429696_n.jpg predicted as class: [1]\n",
      "Image dirty\\66904466_2345934478787134_2735228915772555264_n.jpg predicted as class: [1]\n",
      "Image dirty\\68f98fa3-02ab-4bd7-a23e-a317b7d78e5e.jpg predicted as class: [1]\n",
      "Image dirty\\83555015_2757374520976459_1236159289358286848_n.jpg predicted as class: [1]\n",
      "Image dirty\\84179328_2757374427643135_1463727710630051840_n.jpg predicted as class: [1]\n",
      "Image dirty\\84187152_2757360110977900_1621484681205645312_n.jpg predicted as class: [1]\n",
      "Image dirty\\84413137_2757369454310299_4109328544495042560_n.jpg predicted as class: [1]\n",
      "Image dirty\\84946351_2757372924309952_2201818991498887168_n.jpg predicted as class: [0]\n",
      "Image dirty\\97834784_2995576490489593_1605899335810154496_n.jpg predicted as class: [1]\n",
      "Image dirty\\98005897_2995578000489442_8031997251960176640_n.jpg predicted as class: [1]\n",
      "Image dirty\\IMG-20241014-WA0077.jpg predicted as class: [1]\n",
      "Image dirty\\IMG_0393.JPEG predicted as class: [1]\n",
      "Image dirty\\IMG_0429.JPEG predicted as class: [1]\n",
      "Image dirty\\IMG_2141.jpg predicted as class: [1]\n",
      "Image dirty\\IMG_2181.jpg predicted as class: [1]\n",
      "Image dirty\\a54c101c-bc8e-4203-b48d-98e2d2f4be48.jpg predicted as class: [1]\n",
      "Image dirty\\a9b54fb6-d5c0-4631-91c2-6f679f606fa4.jpg predicted as class: [1]\n",
      "Image dirty\\c18d7d4c-79a2-4c75-8445-98d0c8d15688.jpg predicted as class: [1]\n",
      "Image dirty\\e8bd70b3-94fd-4c84-a7cc-46c5575110bd.jpg predicted as class: [1]\n",
      "Image dirty\\f87eaf76-5a33-4648-8be2-70786a9099b0.jpg predicted as class: [1]\n"
     ]
    }
   ],
   "source": [
    "# make predictions\n",
    "predictions = model.predict(test_generator, verbose=1)\n",
    "predicted_class = (predictions > 0.5).astype(int)\n",
    "class_labels = test_generator.classes\n",
    "image_names = test_generator.filenames\n",
    "\n",
    "# print image name and prediction\n",
    "for image, pred_class in enumerate(predicted_class):\n",
    "    print(f'Image {image_names[image]} predicted as class: {pred_class}')"
   ]
  },
  {
   "cell_type": "code",
   "execution_count": 10,
   "id": "0b0a348a-19f8-4e41-b73a-d74be488fb8f",
   "metadata": {},
   "outputs": [
    {
     "name": "stdout",
     "output_type": "stream",
     "text": [
      "Precision score: 0.72.\n",
      "Recall score: 0.87.\n",
      "F1 score: 0.79.\n"
     ]
    },
    {
     "data": {
      "image/png": "[encoded data removed]",
      "text/plain": [
       "<Figure size 640x480 with 2 Axes>"
      ]
     },
     "metadata": {},
     "output_type": "display_data"
    }
   ],
   "source": [
    "# evaluation metrics\n",
    "precision = precision_score(class_labels, predicted_class)\n",
    "recall = recall_score(class_labels, predicted_class)\n",
    "f1_result = f1_score(class_labels, predicted_class)\n",
    "confusing_matrix = confusion_matrix(class_labels, predicted_class)\n",
    "\n",
    "print(f'Precision score: {round(precision, 2)}.')\n",
    "print(f'Recall score: {round(recall, 2)}.')\n",
    "print(f'F1 score: {round(f1_result, 2)}.')\n",
    "\n",
    "cmd = ConfusionMatrixDisplay(confusion_matrix=confusing_matrix, display_labels=test_generator.class_indices)\n",
    "cmd.plot();"
   ]
  },
  {
   "cell_type": "code",
   "execution_count": 11,
   "id": "9240744a-dde2-429b-8e18-4a8b4c109a3c",
   "metadata": {},
   "outputs": [
    {
     "name": "stdout",
     "output_type": "stream",
     "text": [
      "False Negatives\n",
      "Image dirty\\12c943_6e5e6bce798c4a79bdfe21b92be8e822~mv2.jpg predicted class \"clean\" but labeled \"dirty\".\n",
      "Image dirty\\12c943_b20de859cd0d47e397446cbbcec30f16~mv2.jpg predicted class \"clean\" but labeled \"dirty\".\n",
      "Image dirty\\465031171_8598614230185763_4296054996684274349_n.jpg predicted class \"clean\" but labeled \"dirty\".\n",
      "Image dirty\\465049001_8598614226852430_348286118249082025_n.jpg predicted class \"clean\" but labeled \"dirty\".\n",
      "Image dirty\\465236596_8605904819456704_4747615728701579437_n.jpg predicted class \"clean\" but labeled \"dirty\".\n",
      "Image dirty\\465453505_8605905322789987_6267472293927772884_n.jpg predicted class \"clean\" but labeled \"dirty\".\n",
      "Image dirty\\84946351_2757372924309952_2201818991498887168_n.jpg predicted class \"clean\" but labeled \"dirty\".\n"
     ]
    }
   ],
   "source": [
    "# list of false negatives\n",
    "false_negatives = []\n",
    "print('False Negatives')\n",
    "for image, pred_class in enumerate(predicted_class):\n",
    "    if pred_class == 0:\n",
    "        if pred_class != class_labels[image]:\n",
    "            false_negatives.append(image_names[image])\n",
    "            print(f'Image {image_names[image]} predicted class \"clean\" but labeled \"dirty\".')"
   ]
  },
  {
   "cell_type": "code",
   "execution_count": 12,
   "id": "0cd910e3-58f1-4e6b-b1e0-3d3fabadb3b1",
   "metadata": {},
   "outputs": [
    {
     "data": {
      "image/png": "[encoded data removed]",
      "text/plain": [
       "<Figure size 640x480 with 1 Axes>"
      ]
     },
     "metadata": {},
     "output_type": "display_data"
    }
   ],
   "source": [
    "# Check the ROC Curve - will help us see how well the model is defining classes\n",
    "fpr, tpr, thresholds = roc_curve(class_labels, predictions)\n",
    "roc_auc = auc(fpr, tpr)\n",
    "roc_display = RocCurveDisplay(fpr=fpr, tpr=tpr, roc_auc=roc_auc)\n",
    "roc_display.plot()\n",
    "plt.legend()\n",
    "plt.show;"
   ]
  },
  {
   "cell_type": "code",
   "execution_count": 13,
   "id": "17ef8034-d7ad-4449-a194-e09566576b72",
   "metadata": {},
   "outputs": [
    {
     "data": {
      "text/plain": [
       "0.8569"
      ]
     },
     "execution_count": 13,
     "metadata": {},
     "output_type": "execute_result"
    }
   ],
   "source": [
    "# generate the roc_auc_score\n",
    "roc_auc_score = round(roc_auc_score(class_labels, predictions), 4)\n",
    "roc_auc_score"
   ]
  },
  {
   "cell_type": "markdown",
   "id": "d143e92b-a440-49da-a529-e53f03cb5b65",
   "metadata": {},
   "source": [
    "___\n",
    "### Model Evaluation  \n",
    "  \n",
    "\n",
    "___\n",
    "##### Overfitting or Underfitting\n",
    "To start the model evaluation it should be noted that the validation set showed a bit more oscillation from epoch to epoch.  This can be seen in the model evaluation over epochs chart.  This is likely due to its smaller size of only 110 images.  It will be interesting to compare this observation when more data is on hand.\n",
    "\n",
    "After taking that into account, the model can be examined for signs of overfitting and underfitting.  One of the easiest signs of overfitting to detect is a noticeable difference between training and testing accuarcy.  This model though tended to return accuracy results within 5% of each other, with an occassional result just beyond 5-7%.  Another sign that the model was not overfitting was the performance on the test set was inline with the training and validation set accuracy.  This highlights the model responding to new natural images.  Another sign of overfitting is when the validation loss function plateaus and increases while the training loss continues to fall.  This was largely not the case, though was possibly starting to show in the last few epochs.  Again, with a small validation set, it would not be surprising for the model to be too comfortable with the data.\n",
    "\n",
    "The most obvious sign of underfitting, not performing well on training or validation accuaracy, was not the case.  The accuracy was consistently rising and outperforming a null model at 50%.  Additionally the training and validation losses were falling.  If they had plateaued early, underfiting would be a concern as the model is not learning from the data to lower the loss.  Given this is a simple model, 32 filters on one convultional layer, concern that the model is not learning complex relationships exists, and might be cornered into this simple classification task exists.  Time will tell though once more data is obtained.\n",
    "\n",
    "Given the size of the dataset, the model architecture was kept lean to avoid overfitting to specific features.  The model will have to be adjusted should the size of th dataset increase substantially.\n",
    "___\n",
    "##### Predictions and Confusion Matrix\n",
    "\n",
    "After reviewing the predictions and casting them into a confusion matrix we find a model that is ideal for this problem.  It has a strong recall, the max seen was 92.73% (with validation accuracy of 73.64%) during training.  The peak validation accuracy of 80.90% had an accompanying validation recall of 87.27%.  A justification between the two choices could be offered either way, it would depend more on the entity in the decision.  For a ship operator, getting the choice right 7 times more in a hundred would likely result in earning more vs the risk of getting it wrong few times.  Conversely, a cleaning company would look at it different.  They need to maintain the reputation of their technical knowledge, so making less mistakes (misdiagnosing something clean when it is not) would hurt more.  \n",
    "\n",
    "True Negatives = 36 (correctly predicted clean)  \n",
    "False Negatives = 7 (wrongly predicted clean)  \n",
    "False Positves = 19 (wrongly predicted dirty)  \n",
    "True Positives = 48 (correctly predicted dirty)  \n",
    "\n",
    "This model's recall is strong which we can see with the smaller number of false negatives.  For further discussion, I reviewed the false negatives.  \n",
    "___\n",
    "##### ROC AUC Curve\n",
    "The Receiver Operating Charteristic - Area Under the Curve demonstrates the model's ability to distinguish between the classes.  As mentioned earlier, 1.00 is the ideal score and 0.5 is bottom score.  A score of 0.75 would be average.  The model scored 0.86 which is above average, meaning it is distinguishing the classes fairly well.  This is also seen in the confusion matrix with more correct predictions than wrong.  This is precisely what ROC AUC measures, the true positive rate (recall) on the y-axis vs false positive rate on the x-axis.\n",
    "___\n",
    "##### Subjective Nature of Problem\n",
    "\n",
    "The subjective nature of this problem should be highlighted.  This is clearly demonstrated in the false negative results.  All 7 images were 'edge cases', images I struggled with to classify.  One of which I intentionally planted to check how the model would handle it, image 84946351_2757372924309952_2201818991498887168_n.jpg.  This image appears to be of a cargo old with recently refreshed coatings.  They are bright red, with no visible scarring, nor any noticeable cargo residues.  The only aspect that could likely be concerning are the orange tank tops, but those are allowed as they tend to be addressed in cargo handling.\n",
    "\n",
    "The other images all had features that could tilt the determination one way or the other.  One was cleaning undernearth a hatch cover on deck, a far different environment.  One had bleeding rust and scarring that would be grain clean but not hospital clean.  One had cargo stains that would be possibly grain clean but not hospital clean.\n",
    "\n",
    "Also, the 'clean' and 'dirty' classes for this problem, are a combination of different grades of clean or dirty.  The hierarchy of cleanliness grades falls in order of:\n",
    "\n",
    "* Hospital Clean - paint is completely intact (no scarring, flaking, tacky paint, bleeding rust, cargo stains, etc).  This is for super sensitive cargoes; soda ash, alumina, and some food products\n",
    "* Grain Clean - the paint does not need to be completely intact, but must hard fast, not going to contaminate the cargo, and no previous cargo residues or loose rust.  Grains along with sulphur, potash, and other fertilizers fall into this standard.\n",
    "* Water washed - typically fresh water rinsed and dried to make the holds free of cargo residues.  Less attention is given to cargo stains and rust.\n",
    "* Dry sweep - no water washing and a thorough sweeping to remove cargo residues.\n",
    "* Shovel clean - typically some minor cargo is left behind as the cargo unloading process cannot efficiently unload all cargo.  This is typically done when reloading the same cargo or a cargo with no cleaning standards.\n",
    "\n",
    "With this context in mind, an image could be grain clean, but not hospital clean.\n",
    "___\n",
    "### More Modeling\n",
    "\n",
    "While the results are satisfactory, they do leave some questions to explore:\n",
    "* Even though the model was not showing signs of overfitting and underfitting, is the model biased to the data?\n",
    "* Would selecting images with less 'distracting features' improve performance?  Increase bias?  Distracting features being people, machinery, logos, focus on details (piping, ladders, hatch covers, etc).\n",
    "* Would transfer learning with a pre-trained model perform better?  Would it perform worse?  Why?\n",
    "\n",
    "In the next notebook, we will try to answer these questions.\n",
    "___"
   ]
  },
  {
   "cell_type": "code",
   "execution_count": null,
   "id": "c7b9116a-fb15-4a0a-80a6-80e50e878596",
   "metadata": {},
   "outputs": [],
   "source": []
  }
 ],
 "metadata": {
  "kernelspec": {
   "display_name": "tfnb",
   "language": "python",
   "name": "tfnb"
  },
  "language_info": {
   "codemirror_mode": {
    "name": "ipython",
    "version": 3
   },
   "file_extension": ".py",
   "mimetype": "text/x-python",
   "name": "python",
   "nbconvert_exporter": "python",
   "pygments_lexer": "ipython3",
   "version": "3.10.13"
  }
 },
 "nbformat": 4,
 "nbformat_minor": 5
}
