{
 "cells": [
  {
   "cell_type": "markdown",
   "id": "b5d4a817-39a0-45c6-8249-b21c5f5795f9",
   "metadata": {},
   "source": [
    "# Email \n",
    "___\n",
    "\n",
    "A vessel's hold photos are sent to the vessel operator via email by either the vessel crew, inspector, or cleaning company.  The email often contains an excel file, a csv file, or attachments, and perhaps a cleaning report with planned cleaning, materials, etc.\n",
    "\n",
    "The code here is being developped to:\n",
    "* Receive an email containing photos of the cargo holds.\n",
    "* Download the photos.\n",
    "* Pass the photos to the model for analysis.\n",
    "* Label the photos to further build the labeling directories.\n",
    "* Return the model's analysis\n",
    "* Provide cleaning recommendations."
   ]
  },
  {
   "cell_type": "code",
   "execution_count": 72,
   "id": "68cfcbf7-b504-4e53-8424-cc1247082dbb",
   "metadata": {},
   "outputs": [],
   "source": [
    "import imaplib\n",
    "import email\n",
    "import os\n",
    "import regex as re\n",
    "import yaml"
   ]
  },
  {
   "cell_type": "code",
   "execution_count": 80,
   "id": "9f0f5ba3-2fba-489a-9497-756cb99270ff",
   "metadata": {},
   "outputs": [],
   "source": [
    "# function to retrieve credentials\n",
    "def gmail_credentials(filepath):\n",
    "    try:\n",
    "        with open(filepath, 'r') as file:\n",
    "            credentials = yaml.safe_load(file)\n",
    "            user = credentials['user']\n",
    "            password = credentials['app_password']\n",
    "            return user, password\n",
    "    except Exception as e:\n",
    "        logging.error(\"Failed to load credentials: {}\".format(e))\n",
    "        raise"
   ]
  },
  {
   "cell_type": "code",
   "execution_count": 87,
   "id": "a998b09a-bb5f-4174-adff-bcedf19a2ca1",
   "metadata": {},
   "outputs": [],
   "source": [
    "# function to login and return connection to mail server\n",
    "def login_gmail(username, password):\n",
    "    mail = imaplib.IMAP4_SSL(\"imap.gmail.com\")\n",
    "    mail.login(username, password)\n",
    "    return mail"
   ]
  },
  {
   "cell_type": "code",
   "execution_count": 88,
   "id": "604c249d-9552-44a2-a256-f613bba6945a",
   "metadata": {},
   "outputs": [],
   "source": [
    "# connect to gmail\n",
    "def connect_gmail():\n",
    "    gmail = gmail_credentials('../gmail_credentials.yaml')\n",
    "    connected = login_gmail(gmail[0], gmail[1])\n",
    "    return connected"
   ]
  },
  {
   "cell_type": "code",
   "execution_count": 83,
   "id": "40365ddc-75ac-4555-b354-0ca772bb3987",
   "metadata": {},
   "outputs": [],
   "source": [
    "def clean_subject(subject):\n",
    "    decoded_subject, encoding = decode_header(subject)[0]\n",
    "    if isinstance(decoded_subject, bytes):\n",
    "       decoded_subject = decoded_subject.decode(encoding if encoding else 'utf-8')\n",
    "    return decoded_subject"
   ]
  },
  {
   "cell_type": "code",
   "execution_count": 84,
   "id": "a8292b5a-86bd-4f8f-bf89-a3bb8783c76e",
   "metadata": {},
   "outputs": [],
   "source": [
    "def retrieve_new_emails(mail):\n",
    "    # check inbox for new mail\n",
    "    mail.select('inbox')\n",
    "    status, messages = mail.search(None, 'UNSEEN')\n",
    "    if status == 'OK':\n",
    "        email_ids = messages[0].split()\n",
    "        print(\"There are {len(messages[0].split())} new messages.\")\n",
    "        return email_ids\n",
    "    else:\n",
    "        print(\"No new messages found!\")"
   ]
  },
  {
   "cell_type": "code",
   "execution_count": 85,
   "id": "2882bca6-eebe-4dec-a11e-30b4e6043f37",
   "metadata": {},
   "outputs": [],
   "source": [
    "def download_attachment(msg, download_folder=\"attachments\"):\n",
    "    # Check if the email message is multipart (contains attachments)\n",
    "    if msg.is_multipart():\n",
    "        for part in msg.walk():\n",
    "            # If part is multipart, continue to next part\n",
    "            if part.get_content_maintype() == 'multipart':\n",
    "                continue\n",
    "            # If part is an attachment\n",
    "            if part.get('Content-Disposition') is not None:\n",
    "                filename = part.get_filename()\n",
    "                if filename:\n",
    "                    # Decode filename if needed\n",
    "                    filename, encoding = decode_header(filename)[0]\n",
    "                    if isinstance(filename, bytes):\n",
    "                        filename = filename.decode(encoding if encoding else 'utf-8')\n",
    "                    # Save the attachment to the specified folder\n",
    "                    if not os.path.exists(download_folder):\n",
    "                        os.makedirs(download_folder)\n",
    "                    filepath = os.path.join(download_folder, filename)\n",
    "                    # Write attachment to the file\n",
    "                    with open(filepath, \"wb\") as f:\n",
    "                        f.write(part.get_payload(decode=True))\n",
    "                    print(f\"Attachment {filename} saved to {filepath}\")"
   ]
  },
  {
   "cell_type": "code",
   "execution_count": 86,
   "id": "c485fd70-8b2c-41b0-8083-65777e70ff6e",
   "metadata": {},
   "outputs": [
    {
     "ename": "error",
     "evalue": "command SELECT illegal in state NONAUTH, only allowed in states AUTH, SELECTED",
     "output_type": "error",
     "traceback": [
      "\u001b[1;31m---------------------------------------------------------------------------\u001b[0m",
      "\u001b[1;31merror\u001b[0m                                     Traceback (most recent call last)",
      "Cell \u001b[1;32mIn[86], line 1\u001b[0m\n\u001b[1;32m----> 1\u001b[0m retrieve_new_emails(mail)\n",
      "Cell \u001b[1;32mIn[84], line 3\u001b[0m, in \u001b[0;36mretrieve_new_emails\u001b[1;34m(mail)\u001b[0m\n\u001b[0;32m      1\u001b[0m \u001b[38;5;28;01mdef\u001b[39;00m \u001b[38;5;21mretrieve_new_emails\u001b[39m(mail):\n\u001b[0;32m      2\u001b[0m     \u001b[38;5;66;03m# check inbox for new mail\u001b[39;00m\n\u001b[1;32m----> 3\u001b[0m     mail\u001b[38;5;241m.\u001b[39mselect(\u001b[38;5;124m'\u001b[39m\u001b[38;5;124minbox\u001b[39m\u001b[38;5;124m'\u001b[39m)\n\u001b[0;32m      4\u001b[0m     status, messages \u001b[38;5;241m=\u001b[39m mail\u001b[38;5;241m.\u001b[39msearch(\u001b[38;5;28;01mNone\u001b[39;00m, \u001b[38;5;124m'\u001b[39m\u001b[38;5;124mUNSEEN\u001b[39m\u001b[38;5;124m'\u001b[39m)\n\u001b[0;32m      5\u001b[0m     \u001b[38;5;28;01mif\u001b[39;00m status \u001b[38;5;241m==\u001b[39m \u001b[38;5;124m'\u001b[39m\u001b[38;5;124mOK\u001b[39m\u001b[38;5;124m'\u001b[39m:\n",
      "File \u001b[1;32m~\\anaconda3\\Lib\\imaplib.py:756\u001b[0m, in \u001b[0;36mIMAP4.select\u001b[1;34m(self, mailbox, readonly)\u001b[0m\n\u001b[0;32m    754\u001b[0m \u001b[38;5;28;01melse\u001b[39;00m:\n\u001b[0;32m    755\u001b[0m     name \u001b[38;5;241m=\u001b[39m \u001b[38;5;124m'\u001b[39m\u001b[38;5;124mSELECT\u001b[39m\u001b[38;5;124m'\u001b[39m\n\u001b[1;32m--> 756\u001b[0m typ, dat \u001b[38;5;241m=\u001b[39m \u001b[38;5;28mself\u001b[39m\u001b[38;5;241m.\u001b[39m_simple_command(name, mailbox)\n\u001b[0;32m    757\u001b[0m \u001b[38;5;28;01mif\u001b[39;00m typ \u001b[38;5;241m!=\u001b[39m \u001b[38;5;124m'\u001b[39m\u001b[38;5;124mOK\u001b[39m\u001b[38;5;124m'\u001b[39m:\n\u001b[0;32m    758\u001b[0m     \u001b[38;5;28mself\u001b[39m\u001b[38;5;241m.\u001b[39mstate \u001b[38;5;241m=\u001b[39m \u001b[38;5;124m'\u001b[39m\u001b[38;5;124mAUTH\u001b[39m\u001b[38;5;124m'\u001b[39m     \u001b[38;5;66;03m# Might have been 'SELECTED'\u001b[39;00m\n",
      "File \u001b[1;32m~\\anaconda3\\Lib\\imaplib.py:1230\u001b[0m, in \u001b[0;36mIMAP4._simple_command\u001b[1;34m(self, name, *args)\u001b[0m\n\u001b[0;32m   1228\u001b[0m \u001b[38;5;28;01mdef\u001b[39;00m \u001b[38;5;21m_simple_command\u001b[39m(\u001b[38;5;28mself\u001b[39m, name, \u001b[38;5;241m*\u001b[39margs):\n\u001b[1;32m-> 1230\u001b[0m     \u001b[38;5;28;01mreturn\u001b[39;00m \u001b[38;5;28mself\u001b[39m\u001b[38;5;241m.\u001b[39m_command_complete(name, \u001b[38;5;28mself\u001b[39m\u001b[38;5;241m.\u001b[39m_command(name, \u001b[38;5;241m*\u001b[39margs))\n",
      "File \u001b[1;32m~\\anaconda3\\Lib\\imaplib.py:968\u001b[0m, in \u001b[0;36mIMAP4._command\u001b[1;34m(self, name, *args)\u001b[0m\n\u001b[0;32m    966\u001b[0m \u001b[38;5;28;01mif\u001b[39;00m \u001b[38;5;28mself\u001b[39m\u001b[38;5;241m.\u001b[39mstate \u001b[38;5;129;01mnot\u001b[39;00m \u001b[38;5;129;01min\u001b[39;00m Commands[name]:\n\u001b[0;32m    967\u001b[0m     \u001b[38;5;28mself\u001b[39m\u001b[38;5;241m.\u001b[39mliteral \u001b[38;5;241m=\u001b[39m \u001b[38;5;28;01mNone\u001b[39;00m\n\u001b[1;32m--> 968\u001b[0m     \u001b[38;5;28;01mraise\u001b[39;00m \u001b[38;5;28mself\u001b[39m\u001b[38;5;241m.\u001b[39merror(\u001b[38;5;124m\"\u001b[39m\u001b[38;5;124mcommand \u001b[39m\u001b[38;5;132;01m%s\u001b[39;00m\u001b[38;5;124m illegal in state \u001b[39m\u001b[38;5;132;01m%s\u001b[39;00m\u001b[38;5;124m, \u001b[39m\u001b[38;5;124m\"\u001b[39m\n\u001b[0;32m    969\u001b[0m                      \u001b[38;5;124m\"\u001b[39m\u001b[38;5;124monly allowed in states \u001b[39m\u001b[38;5;132;01m%s\u001b[39;00m\u001b[38;5;124m\"\u001b[39m \u001b[38;5;241m%\u001b[39m\n\u001b[0;32m    970\u001b[0m                      (name, \u001b[38;5;28mself\u001b[39m\u001b[38;5;241m.\u001b[39mstate,\n\u001b[0;32m    971\u001b[0m                       \u001b[38;5;124m'\u001b[39m\u001b[38;5;124m, \u001b[39m\u001b[38;5;124m'\u001b[39m\u001b[38;5;241m.\u001b[39mjoin(Commands[name])))\n\u001b[0;32m    973\u001b[0m \u001b[38;5;28;01mfor\u001b[39;00m typ \u001b[38;5;129;01min\u001b[39;00m (\u001b[38;5;124m'\u001b[39m\u001b[38;5;124mOK\u001b[39m\u001b[38;5;124m'\u001b[39m, \u001b[38;5;124m'\u001b[39m\u001b[38;5;124mNO\u001b[39m\u001b[38;5;124m'\u001b[39m, \u001b[38;5;124m'\u001b[39m\u001b[38;5;124mBAD\u001b[39m\u001b[38;5;124m'\u001b[39m):\n\u001b[0;32m    974\u001b[0m     \u001b[38;5;28;01mif\u001b[39;00m typ \u001b[38;5;129;01min\u001b[39;00m \u001b[38;5;28mself\u001b[39m\u001b[38;5;241m.\u001b[39muntagged_responses:\n",
      "\u001b[1;31merror\u001b[0m: command SELECT illegal in state NONAUTH, only allowed in states AUTH, SELECTED"
     ]
    }
   ],
   "source": [
    "retrieve_new_emails(mail)"
   ]
  },
  {
   "cell_type": "code",
   "execution_count": null,
   "id": "013a1fa4-cb15-4fc8-b2e4-fee6eed03297",
   "metadata": {},
   "outputs": [],
   "source": []
  },
  {
   "cell_type": "code",
   "execution_count": 71,
   "id": "9614e373-5e47-45e3-be9a-0300ba680932",
   "metadata": {},
   "outputs": [
    {
     "ename": "NameError",
     "evalue": "name 'connect_to_gmail' is not defined",
     "output_type": "error",
     "traceback": [
      "\u001b[1;31m---------------------------------------------------------------------------\u001b[0m",
      "\u001b[1;31mNameError\u001b[0m                                 Traceback (most recent call last)",
      "Cell \u001b[1;32mIn[71], line 36\u001b[0m\n\u001b[0;32m     33\u001b[0m     mail\u001b[38;5;241m.\u001b[39mlogout()\n\u001b[0;32m     35\u001b[0m \u001b[38;5;28;01mif\u001b[39;00m \u001b[38;5;18m__name__\u001b[39m \u001b[38;5;241m==\u001b[39m \u001b[38;5;124m\"\u001b[39m\u001b[38;5;124m__main__\u001b[39m\u001b[38;5;124m\"\u001b[39m:\n\u001b[1;32m---> 36\u001b[0m     main()\n",
      "Cell \u001b[1;32mIn[71], line 3\u001b[0m, in \u001b[0;36mmain\u001b[1;34m()\u001b[0m\n\u001b[0;32m      1\u001b[0m \u001b[38;5;28;01mdef\u001b[39;00m \u001b[38;5;21mmain\u001b[39m():\n\u001b[0;32m      2\u001b[0m     \u001b[38;5;66;03m# Connect to Gmail\u001b[39;00m\n\u001b[1;32m----> 3\u001b[0m     mail \u001b[38;5;241m=\u001b[39m connect_to_gmail()\n\u001b[0;32m      5\u001b[0m     \u001b[38;5;66;03m# Fetch emails\u001b[39;00m\n\u001b[0;32m      6\u001b[0m     email_ids \u001b[38;5;241m=\u001b[39m fetch_emails(mail)\n",
      "\u001b[1;31mNameError\u001b[0m: name 'connect_to_gmail' is not defined"
     ]
    }
   ],
   "source": [
    "def main():\n",
    "    # Connect to Gmail\n",
    "    mail = connect_to_gmail()\n",
    "    \n",
    "    # Fetch emails\n",
    "    email_ids = fetch_emails(mail)\n",
    "    \n",
    "    if not email_ids:\n",
    "        print(\"No emails found.\")\n",
    "        return\n",
    "    \n",
    "    # Loop through all emails and process them\n",
    "    for email_id in email_ids:\n",
    "        status, msg_data = mail.fetch(email_id, \"(RFC822)\")  # Fetch the full email\n",
    "        if status != \"OK\":\n",
    "            print(f\"Failed to fetch email ID {email_id}\")\n",
    "            continue\n",
    "\n",
    "        # Get the email content\n",
    "        for response_part in msg_data:\n",
    "            if isinstance(response_part, tuple):\n",
    "                msg = email.message_from_bytes(response_part[1])\n",
    "                \n",
    "                # Get the email subject\n",
    "                subject = msg[\"subject\"]\n",
    "                subject = clean_subject(subject)\n",
    "                print(f\"Processing email: {subject}\")\n",
    "                \n",
    "                # Download attachments from this email\n",
    "                download_attachment(msg)\n",
    "    \n",
    "    # Logout from the server\n",
    "    mail.logout()\n",
    "\n",
    "if __name__ == \"__main__\":\n",
    "    main()"
   ]
  },
  {
   "cell_type": "code",
   "execution_count": null,
   "id": "a90d400b-5a7a-4ead-b2da-3918cef3cb13",
   "metadata": {},
   "outputs": [],
   "source": []
  },
  {
   "cell_type": "markdown",
   "id": "dbb1976e-f0b3-4a81-94c2-5f1134049bb0",
   "metadata": {},
   "source": [
    "Sources\n",
    "\n",
    "Masego - Medium\n",
    "https://medium.com/@masego_m/accessing-gmail-with-python-a-beginners-guide-812e0068a568\n",
    "\n",
    "Coding Point - YouTube\n",
    "https://www.youtube.com/watch?v=HohkC2lNpZg\n",
    "\n",
    "Tech with Time - YouTube\n",
    "https://www.youtube.com/watch?v=rBEQL2tC2xY\n",
    "\n",
    "ChatGPT - author, OpenAI - publisher, date=23 Nov 2024"
   ]
  },
  {
   "cell_type": "code",
   "execution_count": null,
   "id": "24b7786a-d4de-4bf5-a661-ddd6d6767c5f",
   "metadata": {},
   "outputs": [],
   "source": []
  },
  {
   "cell_type": "code",
   "execution_count": null,
   "id": "1acd7dbb-3a08-4bed-855c-4b9bbaa038cc",
   "metadata": {},
   "outputs": [],
   "source": []
  },
  {
   "cell_type": "code",
   "execution_count": null,
   "id": "f9ea9619-f9b2-442c-849d-4328466e2f5d",
   "metadata": {},
   "outputs": [],
   "source": []
  },
  {
   "cell_type": "code",
   "execution_count": null,
   "id": "6c49f7a5-cbc9-4865-a155-96cb2f23ec40",
   "metadata": {},
   "outputs": [],
   "source": []
  },
  {
   "cell_type": "code",
   "execution_count": null,
   "id": "17cc3ada-be30-4dc5-bb01-d0f1fa3f70ad",
   "metadata": {},
   "outputs": [],
   "source": []
  },
  {
   "cell_type": "code",
   "execution_count": null,
   "id": "2661d7da-a0b6-4d22-a5ad-2e62802df222",
   "metadata": {},
   "outputs": [],
   "source": []
  },
  {
   "cell_type": "code",
   "execution_count": null,
   "id": "be2e1f8f-94f2-4aae-9df2-c241df2e0955",
   "metadata": {},
   "outputs": [],
   "source": []
  },
  {
   "cell_type": "code",
   "execution_count": null,
   "id": "025dbe83-b30a-48ab-8277-240301cac92b",
   "metadata": {},
   "outputs": [],
   "source": []
  },
  {
   "cell_type": "code",
   "execution_count": null,
   "id": "715bc181-07b8-4c6f-9413-631cc19d0761",
   "metadata": {},
   "outputs": [],
   "source": []
  },
  {
   "cell_type": "code",
   "execution_count": null,
   "id": "10db0560-18e5-4284-b397-b245c66d6d43",
   "metadata": {},
   "outputs": [],
   "source": []
  },
  {
   "cell_type": "code",
   "execution_count": null,
   "id": "42363977-c8a4-4806-bdb9-397f8e882b45",
   "metadata": {},
   "outputs": [],
   "source": []
  },
  {
   "cell_type": "code",
   "execution_count": null,
   "id": "4bfa8c39-4a7e-4356-a7d8-6c613247b2a0",
   "metadata": {},
   "outputs": [],
   "source": []
  },
  {
   "cell_type": "code",
   "execution_count": null,
   "id": "cf33e980-cc6c-4b92-b79a-a0500fa85cbe",
   "metadata": {},
   "outputs": [],
   "source": []
  },
  {
   "cell_type": "code",
   "execution_count": null,
   "id": "3ed114e0-2c43-41c9-b75e-47b096391dc2",
   "metadata": {},
   "outputs": [],
   "source": []
  },
  {
   "cell_type": "code",
   "execution_count": null,
   "id": "53df571c-611c-4a50-8408-b08794a9d2f3",
   "metadata": {},
   "outputs": [],
   "source": []
  },
  {
   "cell_type": "code",
   "execution_count": null,
   "id": "13864719-7a74-4601-8438-a8a24f633793",
   "metadata": {},
   "outputs": [],
   "source": []
  },
  {
   "cell_type": "code",
   "execution_count": null,
   "id": "2f111327-b06d-4d51-b06e-be1a98a60bc1",
   "metadata": {},
   "outputs": [],
   "source": []
  },
  {
   "cell_type": "code",
   "execution_count": null,
   "id": "05cb6a16-34e8-4be9-90a5-5705829796cd",
   "metadata": {},
   "outputs": [],
   "source": []
  },
  {
   "cell_type": "code",
   "execution_count": 57,
   "id": "dd65d430-190d-424e-bd02-79b81b8036e0",
   "metadata": {},
   "outputs": [],
   "source": [
    "def search_email():\n",
    "    status, messages = mail.search(None, \"ALL\")\n",
    "    email_ids = messages[0].split()\n",
    "    for email_id in email_ids[:5]:  # Limit to first 5 emails\n",
    "            status, msg_data = mail.fetch(email_id, \"(RFC822)\")\n",
    "            for response_part in msg_data:\n",
    "                if isinstance(response_part, tuple):\n",
    "                    # Parse the email content\n",
    "                    msg = email.message_from_bytes(response_part[1])\n",
    "                    subject, encoding = decode_header(msg[\"Subject\"])[0]\n",
    "                    if isinstance(subject, bytes):\n",
    "                        subject = subject.decode(encoding if encoding else \"utf-8\")\n",
    "                    print(f\"Subject: {subject}\")\n",
    "                    print(f\"From: {msg.get('From')}\")\n",
    "                    print(\"-\" * 50)\n"
   ]
  },
  {
   "cell_type": "code",
   "execution_count": 59,
   "id": "db0ecfda-1bed-4277-837f-043940d4d509",
   "metadata": {},
   "outputs": [
    {
     "ename": "error",
     "evalue": "command SEARCH illegal in state NONAUTH, only allowed in states SELECTED",
     "output_type": "error",
     "traceback": [
      "\u001b[1;31m---------------------------------------------------------------------------\u001b[0m",
      "\u001b[1;31merror\u001b[0m                                     Traceback (most recent call last)",
      "Cell \u001b[1;32mIn[59], line 1\u001b[0m\n\u001b[1;32m----> 1\u001b[0m search_email()\n",
      "Cell \u001b[1;32mIn[57], line 2\u001b[0m, in \u001b[0;36msearch_email\u001b[1;34m()\u001b[0m\n\u001b[0;32m      1\u001b[0m \u001b[38;5;28;01mdef\u001b[39;00m \u001b[38;5;21msearch_email\u001b[39m():\n\u001b[1;32m----> 2\u001b[0m     status, messages \u001b[38;5;241m=\u001b[39m mail\u001b[38;5;241m.\u001b[39msearch(\u001b[38;5;28;01mNone\u001b[39;00m, \u001b[38;5;124m\"\u001b[39m\u001b[38;5;124mALL\u001b[39m\u001b[38;5;124m\"\u001b[39m)\n\u001b[0;32m      3\u001b[0m     email_ids \u001b[38;5;241m=\u001b[39m messages[\u001b[38;5;241m0\u001b[39m]\u001b[38;5;241m.\u001b[39msplit()\n\u001b[0;32m      4\u001b[0m     \u001b[38;5;28;01mfor\u001b[39;00m email_id \u001b[38;5;129;01min\u001b[39;00m email_ids[:\u001b[38;5;241m5\u001b[39m]:  \u001b[38;5;66;03m# Limit to first 5 emails\u001b[39;00m\n",
      "File \u001b[1;32m~\\anaconda3\\Lib\\imaplib.py:734\u001b[0m, in \u001b[0;36mIMAP4.search\u001b[1;34m(self, charset, *criteria)\u001b[0m\n\u001b[0;32m    732\u001b[0m     typ, dat \u001b[38;5;241m=\u001b[39m \u001b[38;5;28mself\u001b[39m\u001b[38;5;241m.\u001b[39m_simple_command(name, \u001b[38;5;124m'\u001b[39m\u001b[38;5;124mCHARSET\u001b[39m\u001b[38;5;124m'\u001b[39m, charset, \u001b[38;5;241m*\u001b[39mcriteria)\n\u001b[0;32m    733\u001b[0m \u001b[38;5;28;01melse\u001b[39;00m:\n\u001b[1;32m--> 734\u001b[0m     typ, dat \u001b[38;5;241m=\u001b[39m \u001b[38;5;28mself\u001b[39m\u001b[38;5;241m.\u001b[39m_simple_command(name, \u001b[38;5;241m*\u001b[39mcriteria)\n\u001b[0;32m    735\u001b[0m \u001b[38;5;28;01mreturn\u001b[39;00m \u001b[38;5;28mself\u001b[39m\u001b[38;5;241m.\u001b[39m_untagged_response(typ, dat, name)\n",
      "File \u001b[1;32m~\\anaconda3\\Lib\\imaplib.py:1230\u001b[0m, in \u001b[0;36mIMAP4._simple_command\u001b[1;34m(self, name, *args)\u001b[0m\n\u001b[0;32m   1228\u001b[0m \u001b[38;5;28;01mdef\u001b[39;00m \u001b[38;5;21m_simple_command\u001b[39m(\u001b[38;5;28mself\u001b[39m, name, \u001b[38;5;241m*\u001b[39margs):\n\u001b[1;32m-> 1230\u001b[0m     \u001b[38;5;28;01mreturn\u001b[39;00m \u001b[38;5;28mself\u001b[39m\u001b[38;5;241m.\u001b[39m_command_complete(name, \u001b[38;5;28mself\u001b[39m\u001b[38;5;241m.\u001b[39m_command(name, \u001b[38;5;241m*\u001b[39margs))\n",
      "File \u001b[1;32m~\\anaconda3\\Lib\\imaplib.py:968\u001b[0m, in \u001b[0;36mIMAP4._command\u001b[1;34m(self, name, *args)\u001b[0m\n\u001b[0;32m    966\u001b[0m \u001b[38;5;28;01mif\u001b[39;00m \u001b[38;5;28mself\u001b[39m\u001b[38;5;241m.\u001b[39mstate \u001b[38;5;129;01mnot\u001b[39;00m \u001b[38;5;129;01min\u001b[39;00m Commands[name]:\n\u001b[0;32m    967\u001b[0m     \u001b[38;5;28mself\u001b[39m\u001b[38;5;241m.\u001b[39mliteral \u001b[38;5;241m=\u001b[39m \u001b[38;5;28;01mNone\u001b[39;00m\n\u001b[1;32m--> 968\u001b[0m     \u001b[38;5;28;01mraise\u001b[39;00m \u001b[38;5;28mself\u001b[39m\u001b[38;5;241m.\u001b[39merror(\u001b[38;5;124m\"\u001b[39m\u001b[38;5;124mcommand \u001b[39m\u001b[38;5;132;01m%s\u001b[39;00m\u001b[38;5;124m illegal in state \u001b[39m\u001b[38;5;132;01m%s\u001b[39;00m\u001b[38;5;124m, \u001b[39m\u001b[38;5;124m\"\u001b[39m\n\u001b[0;32m    969\u001b[0m                      \u001b[38;5;124m\"\u001b[39m\u001b[38;5;124monly allowed in states \u001b[39m\u001b[38;5;132;01m%s\u001b[39;00m\u001b[38;5;124m\"\u001b[39m \u001b[38;5;241m%\u001b[39m\n\u001b[0;32m    970\u001b[0m                      (name, \u001b[38;5;28mself\u001b[39m\u001b[38;5;241m.\u001b[39mstate,\n\u001b[0;32m    971\u001b[0m                       \u001b[38;5;124m'\u001b[39m\u001b[38;5;124m, \u001b[39m\u001b[38;5;124m'\u001b[39m\u001b[38;5;241m.\u001b[39mjoin(Commands[name])))\n\u001b[0;32m    973\u001b[0m \u001b[38;5;28;01mfor\u001b[39;00m typ \u001b[38;5;129;01min\u001b[39;00m (\u001b[38;5;124m'\u001b[39m\u001b[38;5;124mOK\u001b[39m\u001b[38;5;124m'\u001b[39m, \u001b[38;5;124m'\u001b[39m\u001b[38;5;124mNO\u001b[39m\u001b[38;5;124m'\u001b[39m, \u001b[38;5;124m'\u001b[39m\u001b[38;5;124mBAD\u001b[39m\u001b[38;5;124m'\u001b[39m):\n\u001b[0;32m    974\u001b[0m     \u001b[38;5;28;01mif\u001b[39;00m typ \u001b[38;5;129;01min\u001b[39;00m \u001b[38;5;28mself\u001b[39m\u001b[38;5;241m.\u001b[39muntagged_responses:\n",
      "\u001b[1;31merror\u001b[0m: command SEARCH illegal in state NONAUTH, only allowed in states SELECTED"
     ]
    }
   ],
   "source": [
    "search_email()"
   ]
  },
  {
   "cell_type": "code",
   "execution_count": null,
   "id": "d7665492-372d-4c36-bae8-f34a89fc7713",
   "metadata": {},
   "outputs": [],
   "source": []
  }
 ],
 "metadata": {
  "kernelspec": {
   "display_name": "Python 3 (ipykernel)",
   "language": "python",
   "name": "python3"
  },
  "language_info": {
   "codemirror_mode": {
    "name": "ipython",
    "version": 3
   },
   "file_extension": ".py",
   "mimetype": "text/x-python",
   "name": "python",
   "nbconvert_exporter": "python",
   "pygments_lexer": "ipython3",
   "version": "3.12.4"
  }
 },
 "nbformat": 4,
 "nbformat_minor": 5
}
