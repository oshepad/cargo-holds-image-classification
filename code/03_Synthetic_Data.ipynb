{
 "cells": [
  {
   "cell_type": "markdown",
   "id": "9f68a28c-4326-4352-b7f8-4591067a3223",
   "metadata": {},
   "source": [
    "# Synthetic Data\n",
    "___\n",
    "\n",
    "With only 153 images to start, more are being created to evaluate practicality of the project.\n",
    "In the real world, this dataset classification should be balanced 50/50.  The vessel should provide pictures of dirty holds and eventually clean holds.  A vessel is either dirty or clean.  \n",
    "\n",
    "The multiclass classification problem should also be balanced.  The goal of the multiclass model is to determine how close the vessel's holds are to various cargo cleanliness standards.\n",
    "\n",
    "For the time being, the dataset will be augmented to generate synethetic data, to be replaced by real data when received."
   ]
  },
  {
   "cell_type": "code",
   "execution_count": 1,
   "id": "aa3190c2-05fe-43b8-8e07-af1f225e703f",
   "metadata": {},
   "outputs": [],
   "source": [
    "import os\n",
    "from tensorflow.keras.preprocessing.image import ImageDataGenerator\n",
    "from tensorflow.keras.preprocessing.image import img_to_array, load_img, smart_resize, ImageDataGenerator"
   ]
  },
  {
   "cell_type": "code",
   "execution_count": 12,
   "id": "25a97086-f48c-4339-ad6c-5e12de6cf351",
   "metadata": {},
   "outputs": [],
   "source": [
    "# data augmentation generator\n",
    "datagen = ImageDataGenerator(\n",
    "    brightness_range=(0.5, 1.5),\n",
    "    rotation_range=45,\n",
    "    width_shift_range=0.3,\n",
    "    height_shift_range=0.3,\n",
    "    shear_range=0.3,\n",
    "    zoom_range=[0.4, 0.6],\n",
    "    channel_shift_range=100,\n",
    "    horizontal_flip=True,\n",
    "    validation_split=0.1,\n",
    "    fill_mode='nearest'\n",
    ")"
   ]
  },
  {
   "cell_type": "code",
   "execution_count": 11,
   "id": "a97d4b00-6425-427a-b411-4b3739e10dc5",
   "metadata": {},
   "outputs": [
    {
     "data": {
      "text/plain": [
       "1488"
      ]
     },
     "execution_count": 11,
     "metadata": {},
     "output_type": "execute_result"
    }
   ],
   "source": [
    "# Creating more clean images\n",
    "clean_class_path = '../data/02_classified/clean/'\n",
    "clean_class_files = os.listdir(clean_class_path)\n",
    "clean_class_images = [clean_class_path + file for file in clean_class_files]"
   ]
  },
  {
   "cell_type": "code",
   "execution_count": 13,
   "id": "cd73b30f-4dc4-4424-a48d-ea28c4d439e2",
   "metadata": {},
   "outputs": [],
   "source": [
    "def create_synthetics(image_list, target, destination_path):\n",
    "    \"\"\"Create more images from a given image list and save to destination\"\"\"\n",
    "    # determine how many images to generate per image\n",
    "    generate_per_image = target / (len(image_list))\n",
    "\n",
    "    # loop through image list and generate synthetic images\n",
    "    for image in image_list:\n",
    "        x = load_img(image)\n",
    "        x = img_to_array(x)\n",
    "        x = x.reshape((1,) +x.shape)\n",
    "        i = 0\n",
    "        for batch in datagen.flow(x, batch_size=1, save_to_dir=destination_path, save_prefix='aug', save_format='jpg'):\n",
    "            i += 1\n",
    "            if i > generate_per_image:\n",
    "                break    "
   ]
  },
  {
   "cell_type": "code",
   "execution_count": 14,
   "id": "8dd5e7bb-d2da-410f-9845-6cea745c8990",
   "metadata": {},
   "outputs": [],
   "source": [
    "# Commented out so as not to add more unrealistic pictures\n",
    "# clean_target = 1500\n",
    "# clean_processed = '../data/03_processed/clean/'\n",
    "# create_synthetics(clean_class_images, clean_target, clean_processed)"
   ]
  },
  {
   "cell_type": "code",
   "execution_count": 27,
   "id": "173af5fb-f831-4e8a-87e9-eca6678812f5",
   "metadata": {},
   "outputs": [],
   "source": [
    "clean_gray = []\n",
    "image_gray_1 = '../data/02_classified/clean/465113660_8598614486852404_3598750916332545183_n.jpg'\n",
    "image_gray_2 = '../data/02_classified/clean/50035257_2049242315123020_9194499840761921536_n.jpg'\n",
    "clean_gray.append(image_gray_1)\n",
    "clean_gray.append(image_gray_2)  "
   ]
  },
  {
   "cell_type": "code",
   "execution_count": 28,
   "id": "95c37f35-3470-4d07-acee-fc2ca0f18550",
   "metadata": {},
   "outputs": [],
   "source": [
    "# Commented out so as not to add more unrealistic pictures\n",
    "#clean_processed = '../data/03_processed/clean/'\n",
    "#gray_target = 422\n",
    "#create_synthetics(clean_gray, gray_target, clean_processed)"
   ]
  },
  {
   "cell_type": "code",
   "execution_count": 33,
   "id": "1c2a7212-06ea-409a-a965-23eb501a913d",
   "metadata": {},
   "outputs": [],
   "source": [
    "# Creating more dirty images\n",
    "dirty_class_path = '../data/02_classified/dirty/'\n",
    "dirty_class_files = os.listdir(dirty_class_path)\n",
    "dirty_class_images = [dirty_class_path + file for file in dirty_class_files]"
   ]
  },
  {
   "cell_type": "code",
   "execution_count": 34,
   "id": "a961d718-e7d1-40bf-8a96-20e84bd7d188",
   "metadata": {},
   "outputs": [],
   "source": [
    "# Commented out so as not to add more unrealistic pictures\n",
    "#dirty_target = 1500\n",
    "#dirty_processed = '../data/03_processed/dirty/'\n",
    "#create_synthetics(dirty_class_images, dirty_target, dirty_processed)"
   ]
  },
  {
   "cell_type": "markdown",
   "id": "e5c4d070-21c6-4bf4-ab73-a1769943f472",
   "metadata": {},
   "source": [
    "### Train / Validate / Test Split\n",
    "___\n",
    "\n",
    "This section will further organize the data into train, validate, and testing directories after generating synthetic data into two classes; clean or dirty.\n",
    "\n",
    "The inspiration to do it this way is from the Medium article by Aravinda\n",
    "https://aravinda-gn.medium.com/how-to-split-image-dataset-into-train-validation-and-test-set-5a41c48af332"
   ]
  },
  {
   "cell_type": "code",
   "execution_count": 35,
   "id": "7ddcae5c-b2ce-4ef1-a31a-ec580a9c191e",
   "metadata": {},
   "outputs": [],
   "source": [
    "import random\n",
    "import shutil"
   ]
  },
  {
   "cell_type": "code",
   "execution_count": 38,
   "id": "4a715c6e-696a-4030-a488-ee44b34bb980",
   "metadata": {},
   "outputs": [
    {
     "data": {
      "text/plain": [
       "(1418, 1363)"
      ]
     },
     "execution_count": 38,
     "metadata": {},
     "output_type": "execute_result"
    }
   ],
   "source": [
    "# assemble lists of images\n",
    "dirty_process_path = '../data/03_processed/dirty_STOP_SIGN/'\n",
    "clean_process_path = '../data/03_processed/clean_STOP_SIGN/'\n",
    "\n",
    "dirty_process_files = os.listdir(dirty_process_path)\n",
    "clean_process_files = os.listdir(clean_process_path)\n",
    "\n",
    "dirty_process_images = [dirty_process_path + file for file in dirty_process_files]\n",
    "clean_process_images = [clean_process_path + file for file in clean_process_files]\n",
    "\n",
    "len(dirty_process_images), len(clean_process_images)"
   ]
  },
  {
   "cell_type": "code",
   "execution_count": 46,
   "id": "ab417444-c966-43db-ab4f-122012e67bc4",
   "metadata": {},
   "outputs": [],
   "source": [
    "# setup each directory\n",
    "train = os.path.join('../data/', '04_train')\n",
    "validation = os.path.join('../data/', '05_valiation')\n",
    "test = os.path.join('../data/', '06_test')\n",
    "\n",
    "# setup each sub directory\n",
    "train_dirty = os.path.join('../data/04_train/', 'train_dirty')\n",
    "train_clean = os.path.join('../data/04_train/', 'train_clean')\n",
    "validation_dirty = os.path.join('../data/05_valiation', 'validation_dirty')\n",
    "validation_clean = os.path.join('../data/05_valiation', 'validation_clean')\n",
    "test_dirty = os.path.join('../data/06_test', 'test_dirty')\n",
    "test_clean = os.path.join('../data/06_test', 'test_clean')\n",
    "\n",
    "# randomness\n",
    "random.seed(27)\n",
    "random.shuffle(dirty_process_images)\n",
    "random.shuffle(clean_process_images)\n",
    "\n",
    "# size of each group\n",
    "train_dirty_size = round((len(dirty_process_images)) * 0.8, 0)\n",
    "train_clean_size = round((len(clean_process_images)) * 0.8, 0)\n",
    "validation_dirty_size  = round((len(dirty_process_images)) * 0.1, 0)\n",
    "validation_clean_size = round((len(clean_process_images)) * 0.1, 0)\n",
    "test_dirty_size  = round((len(dirty_process_images)) * 0.1, 0)\n",
    "test_clean_size  = round((len(clean_process_images)) * 0.1, 0)"
   ]
  },
  {
   "cell_type": "code",
   "execution_count": 53,
   "id": "f6fb9dab-552a-4ab3-97e1-fb6cee2045a9",
   "metadata": {},
   "outputs": [
    {
     "data": {
      "text/plain": [
       "(1090.0, 136.0, 136.0)"
      ]
     },
     "execution_count": 53,
     "metadata": {},
     "output_type": "execute_result"
    }
   ],
   "source": [
    "#len(dirty_process_images) == train_dirty_size + validation_dirty_size + test_dirty_size, \\\n",
    "#len(clean_process_images) == \n",
    "train_clean_size , validation_clean_size , test_clean_size"
   ]
  },
  {
   "cell_type": "code",
   "execution_count": 54,
   "id": "67f7b708-8e7b-455b-8a85-0b0430ff1862",
   "metadata": {},
   "outputs": [],
   "source": [
    "# Create destination folders if they don't exist\n",
    "for folder_path in [train_dirty, train_clean, validation_dirty, validation_clean, test_dirty, test_clean]:\n",
    "    if not os.path.exists(folder_path):\n",
    "        os.makedirs(folder_path)"
   ]
  },
  {
   "cell_type": "code",
   "execution_count": 61,
   "id": "6bac4baa-7c15-4aba-946e-214301475f3a",
   "metadata": {},
   "outputs": [],
   "source": [
    "tvt = [\n",
    "    \n",
    "]"
   ]
  },
  {
   "cell_type": "code",
   "execution_count": 62,
   "id": "bb441b21-7e26-4838-9806-f8da5d820a3e",
   "metadata": {},
   "outputs": [],
   "source": [
    "tvt_dir = {\n",
    "    'name': 'train_dirty',\n",
    "    'source_list': dirty_process_images,\n",
    "    'size': train_dirty_size,\n",
    "    'destiantion': train_dirty,\n",
    "}\n",
    "\n",
    "tvt.append(tvt_dir)"
   ]
  },
  {
   "cell_type": "code",
   "execution_count": null,
   "id": "5886194c-6063-454d-aef7-2db5d97bd586",
   "metadata": {},
   "outputs": [],
   "source": [
    "# Train / Validate / Test per class\n",
    "\n",
    "def train_validate_test(source_list, size, destination):\n",
    "    for i, f in enumerate(source_list):\n",
    "        if i < size:\n",
    "            dest_folder = destination\n",
    "        elif i < train_size + val_size:\n",
    "            dest_folder = val_folder\n",
    "        else:\n",
    "            dest_folder = test_folder\n",
    "        shutil.copy(os.path.join(data_path, f), os.path.join(dest_folder, f))"
   ]
  }
 ],
 "metadata": {
  "kernelspec": {
   "display_name": "tfnb",
   "language": "python",
   "name": "tfnb"
  },
  "language_info": {
   "codemirror_mode": {
    "name": "ipython",
    "version": 3
   },
   "file_extension": ".py",
   "mimetype": "text/x-python",
   "name": "python",
   "nbconvert_exporter": "python",
   "pygments_lexer": "ipython3",
   "version": "3.10.13"
  }
 },
 "nbformat": 4,
 "nbformat_minor": 5
}
