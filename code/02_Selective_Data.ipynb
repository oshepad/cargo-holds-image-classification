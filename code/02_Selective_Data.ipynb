{
 "cells": [
  {
   "cell_type": "markdown",
   "id": "e0e91e94-cdc7-457d-9b87-abdc479391e8",
   "metadata": {},
   "source": [
    "# Image Classification \n",
    "___\n",
    "\n",
    "#### Background\n",
    "\n",
    "The first model was based on the data cumulatively collected to be split between clean and dirty.  No segmentation was made to the specifics of the image.  Many images contain piping, ladders, hatch covers, tank tops, and or focused on people.\n",
    "\n",
    "In this notebook, the model will focus on a narrowed dataset to just images of bulkheads.  These images were copied to a new directory called selective_data.  It was subdivided into a validation set (10%) and training set (90%).\n",
    "___"
   ]
  },
  {
   "cell_type": "code",
   "execution_count": 76,
   "id": "56f1ea40-cc04-4be9-9c22-7011a82f5d6a",
   "metadata": {},
   "outputs": [],
   "source": [
    "import matplotlib.pyplot as plt\n",
    "import matplotlib.image as mpimg\n",
    "import random\n",
    "import numpy as np\n",
    "import pandas as pd\n",
    "import shutil\n",
    "import os\n",
    "from PIL import Image\n",
    "\n",
    "from sklearn.model_selection import train_test_split, GridSearchCV\n",
    "from tensorflow.keras.preprocessing import image_dataset_from_directory\n",
    "from tensorflow.keras.preprocessing.image import img_to_array, load_img, ImageDataGenerator, smart_resize\n",
    "\n",
    "from tensorflow.keras.models import Sequential\n",
    "from tensorflow.keras.layers import Input, Rescaling, Dense, Dropout, Flatten, Conv2D, MaxPooling2D, BatchNormalization\n",
    "from tensorflow.keras.regularizers import l2\n",
    "from tensorflow.keras.callbacks import EarlyStopping\n",
    "from tensorflow.keras.optimizers import Adam\n",
    "from tensorflow.keras.metrics import Precision, Recall"
   ]
  },
  {
   "cell_type": "markdown",
   "id": "1d133d7e-ac3a-4f3e-9882-c869bafe61ee",
   "metadata": {},
   "source": [
    "___\n",
    "#### Data Pre-processing\n",
    "\n",
    "This project is working with an imbalanced and small dataset.  There are some preprocessing steps to take to improve the model performance.  These steps can be tailored in the future as the dataset size increases.\n",
    "\n",
    "* Splitting\n",
    "* Image Augmentation\n",
    "* Image Generator\n",
    "\n",
    "Before creating synthetic images to balance out the dataset, we will hold back 10% for a test set of unaltered images.  This will be based on 10% of the dirty images, the target number for balancing the minority dataset.  This is a relatively large set, 20% of the clean images, but this will eliminate overstating or understating the evaluation of the model.  In time this will not be as significant as te dataset is natually balanced out.\n",
    "___\n",
    "\n"
   ]
  },
  {
   "cell_type": "code",
   "execution_count": 48,
   "id": "ff16d13d-22c6-48af-bf8f-b166e2b0eec6",
   "metadata": {},
   "outputs": [
    {
     "data": {
      "text/plain": [
       "(250, 340)"
      ]
     },
     "execution_count": 48,
     "metadata": {},
     "output_type": "execute_result"
    }
   ],
   "source": [
    "clean_path = '../data/selective_data/train/clean/'\n",
    "clean_images = [i for i in os.listdir(clean_path)]\n",
    "\n",
    "dirty_path = '../data/selective_data/train/dirty/'\n",
    "dirty_images = [i for i in os.listdir(dirty_path)]\n",
    "\n",
    "len(clean_images), len(dirty_images)"
   ]
  },
  {
   "cell_type": "code",
   "execution_count": 49,
   "id": "6d204381-efa0-436e-aed1-20aaddb4ed6c",
   "metadata": {},
   "outputs": [],
   "source": [
    "# Holding back 25 and 34 random images from each class to serve as a test set.\n",
    "\n",
    "# get ten random clean images\n",
    "random.shuffle(clean_images)\n",
    "test_clean_list = clean_images[:25]\n",
    "\n",
    "# make a filepath\n",
    "test_clean = []\n",
    "for image in test_clean_list:\n",
    "    test_clean.append(clean_path+image)\n",
    "\n",
    "# move to test directory\n",
    "for clean_image in test_clean:\n",
    "    shutil.move(clean_image, '../data/selective_data/test/clean/')\n",
    "\n",
    "# get ten random dirty images\n",
    "random.shuffle(dirty_images)\n",
    "test_dirty_list = dirty_images[:34]\n",
    "\n",
    "# make a filepath\n",
    "test_dirty = []\n",
    "for image in test_dirty_list:\n",
    "    test_dirty.append(dirty_path+image)\n",
    "\n",
    "# move to test directory\n",
    "for dirty_image in test_dirty:\n",
    "    shutil.move(dirty_image, '../data/selective_data/test/dirty/')"
   ]
  },
  {
   "cell_type": "code",
   "execution_count": 52,
   "id": "2164c6f9-6ed8-49ea-8649-dfcd65de7340",
   "metadata": {},
   "outputs": [
    {
     "data": {
      "text/plain": [
       "(225, 306)"
      ]
     },
     "execution_count": 52,
     "metadata": {},
     "output_type": "execute_result"
    }
   ],
   "source": [
    "num_clean = len([i for i in os.listdir('../data/selective_data/train/clean/')])\n",
    "num_dirty = len([i for i in os.listdir('../data/selective_data/train/dirty/')])\n",
    "num_clean, num_dirty"
   ]
  },
  {
   "cell_type": "code",
   "execution_count": 53,
   "id": "b8e2313a-40e6-4e9c-a662-7dc34b0a4a8f",
   "metadata": {},
   "outputs": [
    {
     "data": {
      "image/png": "[encoded data removed]",
      "text/plain": [
       "<Figure size 640x480 with 1 Axes>"
      ]
     },
     "metadata": {},
     "output_type": "display_data"
    }
   ],
   "source": [
    "# Pie chart with class distribution\n",
    "fig, ax = plt.subplots()\n",
    "ax.pie(x=[num_clean, num_dirty], labels=['Clean', 'Dirty'], colors=['lightblue', 'lightgreen'], autopct='%1.1f%%')\n",
    "ax.set_title('Class Distribution')\n",
    "plt.show;"
   ]
  },
  {
   "cell_type": "markdown",
   "id": "8575af6b-801f-4779-8c05-d5d7239d6cdb",
   "metadata": {},
   "source": [
    "___\n",
    "#### Modeling\n",
    "\n",
    "This time thee model "
   ]
  },
  {
   "cell_type": "code",
   "execution_count": 80,
   "id": "5915a2d1-3f02-4eb5-b70c-1f83410776bc",
   "metadata": {},
   "outputs": [
    {
     "name": "stdout",
     "output_type": "stream",
     "text": [
      "Found 479 images belonging to 2 classes.\n",
      "Found 52 images belonging to 2 classes.\n"
     ]
    }
   ],
   "source": [
    "# create the image data generator to apply to the transformations to data\n",
    "# the transformations are realistic as it relates to what could be seen\n",
    "train_datagen = ImageDataGenerator(\n",
    "    rescale = 1./255,\n",
    "    brightness_range=(0.7, 1.3),\n",
    "    rotation_range=45,\n",
    "    width_shift_range=0.3,\n",
    "    height_shift_range=0.3,\n",
    "    shear_range=0.3,\n",
    "    zoom_range=0.3,\n",
    "    horizontal_flip=True,\n",
    "    fill_mode='nearest',\n",
    "    validation_split=0.1\n",
    ")\n",
    "\n",
    "model_target_size = (224, 224)\n",
    "model_batch_size = 32\n",
    "\n",
    "# Loading in image data\n",
    "train_generator = train_datagen.flow_from_directory(\n",
    "    '../data/selective_data/train/',\n",
    "    target_size=model_target_size,\n",
    "    batch_size=model_batch_size,\n",
    "    class_mode='binary',\n",
    "    subset='training',\n",
    "    shuffle=True,\n",
    "    seed=27,\n",
    ")\n",
    "\n",
    "validation_generator = train_datagen.flow_from_directory(\n",
    "    '../data/selective_data/train/',\n",
    "    target_size=model_target_size,\n",
    "    batch_size=model_batch_size,\n",
    "    class_mode='binary',\n",
    "    subset='validation',\n",
    "    shuffle=True,\n",
    "    seed=27,\n",
    ")"
   ]
  },
  {
   "cell_type": "code",
   "execution_count": 77,
   "id": "ec12ce2d-9316-41ae-9f72-f399f79eaa2e",
   "metadata": {},
   "outputs": [
    {
     "name": "stdout",
     "output_type": "stream",
     "text": [
      "Model: \"sequential_12\"\n",
      "_________________________________________________________________\n",
      " Layer (type)                Output Shape              Param #   \n",
      "=================================================================\n",
      " conv2d_31 (Conv2D)          (None, 222, 222, 64)      1792      \n",
      "                                                                 \n",
      " max_pooling2d_31 (MaxPoolin  (None, 111, 111, 64)     0         \n",
      " g2D)                                                            \n",
      "                                                                 \n",
      " batch_normalization_43 (Bat  (None, 111, 111, 64)     256       \n",
      " chNormalization)                                                \n",
      "                                                                 \n",
      " dropout_43 (Dropout)        (None, 111, 111, 64)      0         \n",
      "                                                                 \n",
      " conv2d_32 (Conv2D)          (None, 109, 109, 64)      36928     \n",
      "                                                                 \n",
      " max_pooling2d_32 (MaxPoolin  (None, 54, 54, 64)       0         \n",
      " g2D)                                                            \n",
      "                                                                 \n",
      " batch_normalization_44 (Bat  (None, 54, 54, 64)       256       \n",
      " chNormalization)                                                \n",
      "                                                                 \n",
      " dropout_44 (Dropout)        (None, 54, 54, 64)        0         \n",
      "                                                                 \n",
      " conv2d_33 (Conv2D)          (None, 52, 52, 128)       73856     \n",
      "                                                                 \n",
      " max_pooling2d_33 (MaxPoolin  (None, 26, 26, 128)      0         \n",
      " g2D)                                                            \n",
      "                                                                 \n",
      " batch_normalization_45 (Bat  (None, 26, 26, 128)      512       \n",
      " chNormalization)                                                \n",
      "                                                                 \n",
      " dropout_45 (Dropout)        (None, 26, 26, 128)       0         \n",
      "                                                                 \n",
      " flatten_12 (Flatten)        (None, 86528)             0         \n",
      "                                                                 \n",
      " dense_24 (Dense)            (None, 64)                5537856   \n",
      "                                                                 \n",
      " batch_normalization_46 (Bat  (None, 64)               256       \n",
      " chNormalization)                                                \n",
      "                                                                 \n",
      " dropout_46 (Dropout)        (None, 64)                0         \n",
      "                                                                 \n",
      " dense_25 (Dense)            (None, 1)                 65        \n",
      "                                                                 \n",
      "=================================================================\n",
      "Total params: 5,651,777\n",
      "Trainable params: 5,651,137\n",
      "Non-trainable params: 640\n",
      "_________________________________________________________________\n"
     ]
    }
   ],
   "source": [
    "# model for image classification\n",
    "model = Sequential()\n",
    "model.add(Input((224, 224, 3)))\n",
    "\n",
    "model.add(Conv2D(64, (3, 3), activation='relu', kernel_regularizer=l2(0.001)))\n",
    "model.add(MaxPooling2D(pool_size=(2, 2)))\n",
    "model.add(BatchNormalization())\n",
    "model.add(Dropout(0.2))\n",
    "\n",
    "model.add(Conv2D(64, (3, 3), activation='relu', kernel_regularizer=l2(0.001)))\n",
    "model.add(MaxPooling2D(pool_size=(2, 2)))\n",
    "model.add(BatchNormalization())\n",
    "model.add(Dropout(0.2))\n",
    "\n",
    "model.add(Conv2D(128, (3, 3), activation='relu', kernel_regularizer=l2(0.001)))\n",
    "model.add(MaxPooling2D(pool_size=(2, 2)))\n",
    "model.add(BatchNormalization())\n",
    "model.add(Dropout(0.2))\n",
    "\n",
    "model.add(Flatten())\n",
    "model.add(Dense(64, activation='relu'))\n",
    "model.add(BatchNormalization())\n",
    "model.add(Dropout(0.2))\n",
    "model.add(Dense(1, activation='sigmoid'))\n",
    "\n",
    "# compile model\n",
    "optimizer = Adam(learning_rate=0.01)\n",
    "model.compile(optimizer=optimizer, loss='bce', metrics=['accuracy', 'AUC', Precision(), Recall()])\n",
    "\n",
    "model.summary()"
   ]
  },
  {
   "cell_type": "code",
   "execution_count": 78,
   "id": "42f38fad-d1fb-41a6-9c75-acf6ad57fb8e",
   "metadata": {},
   "outputs": [
    {
     "name": "stdout",
     "output_type": "stream",
     "text": [
      "Epoch 1/20\n",
      "15/15 [==============================] - 82s 5s/step - loss: 1.4429 - accuracy: 0.5511 - auc: 0.5849 - precision: 0.6309 - recall: 0.5326 - val_loss: 0.7040 - val_accuracy: 0.5962 - val_auc: 0.5129 - val_precision: 0.5882 - val_recall: 1.0000\n",
      "Epoch 2/20\n",
      "15/15 [==============================] - 74s 5s/step - loss: 1.2508 - accuracy: 0.5553 - auc: 0.5950 - precision: 0.6275 - recall: 0.5616 - val_loss: 0.7306 - val_accuracy: 0.5769 - val_auc: 0.6371 - val_precision: 0.5769 - val_recall: 1.0000\n",
      "Epoch 3/20\n",
      "15/15 [==============================] - 79s 5s/step - loss: 1.1269 - accuracy: 0.6117 - auc: 0.6608 - precision: 0.6731 - recall: 0.6341 - val_loss: 0.7008 - val_accuracy: 0.5769 - val_auc: 0.5045 - val_precision: 0.5769 - val_recall: 1.0000\n",
      "Epoch 4/20\n",
      "15/15 [==============================] - 81s 5s/step - loss: 1.1723 - accuracy: 0.6159 - auc: 0.6556 - precision: 0.6917 - recall: 0.6014 - val_loss: 0.7865 - val_accuracy: 0.5769 - val_auc: 0.4644 - val_precision: 0.5769 - val_recall: 1.0000\n",
      "Epoch 5/20\n",
      "15/15 [==============================] - 78s 5s/step - loss: 1.1596 - accuracy: 0.6200 - auc: 0.6713 - precision: 0.6822 - recall: 0.6377 - val_loss: 0.8930 - val_accuracy: 0.5769 - val_auc: 0.5295 - val_precision: 0.5769 - val_recall: 1.0000\n",
      "Epoch 6/20\n",
      "15/15 [==============================] - 77s 5s/step - loss: 1.0926 - accuracy: 0.6096 - auc: 0.6725 - precision: 0.6745 - recall: 0.6232 - val_loss: 1.1014 - val_accuracy: 0.5769 - val_auc: 0.4265 - val_precision: 0.5769 - val_recall: 1.0000\n",
      "Epoch 7/20\n",
      "15/15 [==============================] - 77s 5s/step - loss: 1.1394 - accuracy: 0.6242 - auc: 0.6634 - precision: 0.6832 - recall: 0.6486 - val_loss: 1.0419 - val_accuracy: 0.5769 - val_auc: 0.5189 - val_precision: 0.5769 - val_recall: 1.0000\n",
      "Epoch 8/20\n",
      "15/15 [==============================] - 74s 5s/step - loss: 1.1234 - accuracy: 0.6138 - auc: 0.6761 - precision: 0.6872 - recall: 0.6051 - val_loss: 0.7525 - val_accuracy: 0.5769 - val_auc: 0.4273 - val_precision: 0.5769 - val_recall: 1.0000\n",
      "Epoch 9/20\n",
      "15/15 [==============================] - 76s 5s/step - loss: 1.1442 - accuracy: 0.6075 - auc: 0.6395 - precision: 0.6732 - recall: 0.6196 - val_loss: 1.1560 - val_accuracy: 0.5769 - val_auc: 0.4606 - val_precision: 0.5769 - val_recall: 1.0000\n",
      "Epoch 10/20\n",
      "15/15 [==============================] - 77s 5s/step - loss: 0.9642 - accuracy: 0.6848 - auc: 0.7327 - precision: 0.7306 - recall: 0.7174 - val_loss: 1.1936 - val_accuracy: 0.5769 - val_auc: 0.3939 - val_precision: 0.5769 - val_recall: 1.0000\n",
      "Epoch 11/20\n",
      "15/15 [==============================] - 78s 5s/step - loss: 0.9379 - accuracy: 0.6722 - auc: 0.7484 - precision: 0.7280 - recall: 0.6884 - val_loss: 0.8807 - val_accuracy: 0.5769 - val_auc: 0.4583 - val_precision: 0.5769 - val_recall: 1.0000\n",
      "Epoch 12/20\n",
      "15/15 [==============================] - 78s 5s/step - loss: 0.9522 - accuracy: 0.7035 - auc: 0.7668 - precision: 0.7577 - recall: 0.7138 - val_loss: 1.0577 - val_accuracy: 0.5769 - val_auc: 0.3803 - val_precision: 0.5769 - val_recall: 1.0000\n",
      "Epoch 13/20\n",
      "15/15 [==============================] - ETA: 0s - loss: 0.9707 - accuracy: 0.6910 - auc: 0.7410 - precision: 0.7424 - recall: 0.7101Restoring model weights from the end of the best epoch: 3.\n",
      "15/15 [==============================] - 74s 5s/step - loss: 0.9707 - accuracy: 0.6910 - auc: 0.7410 - precision: 0.7424 - recall: 0.7101 - val_loss: 1.1225 - val_accuracy: 0.5769 - val_auc: 0.3720 - val_precision: 0.5769 - val_recall: 1.0000\n",
      "Epoch 13: early stopping\n"
     ]
    },
    {
     "data": {
      "text/plain": [
       "<keras.callbacks.History at 0x136fe5e6bc0>"
      ]
     },
     "execution_count": 78,
     "metadata": {},
     "output_type": "execute_result"
    }
   ],
   "source": [
    "# fit model\n",
    "class_weights = {0: 0.9, 1: 1.1}\n",
    "earlystopping = EarlyStopping(restore_best_weights=True, monitor='val_loss', min_delta=0, patience=15, verbose=1, mode='min')\n",
    "model.fit(train_generator, epochs=20, validation_data=validation_generator, class_weight=class_weights, callbacks=[earlystopping])"
   ]
  },
  {
   "cell_type": "code",
   "execution_count": 171,
   "id": "a548cbfc-ddbc-4896-b130-20cbc7fa94ab",
   "metadata": {},
   "outputs": [
    {
     "name": "stderr",
     "output_type": "stream",
     "text": [
      "WARNING:absl:Found untraced functions such as _jit_compiled_convolution_op, _jit_compiled_convolution_op while saving (showing 2 of 2). These functions will not be directly callable after loading.\n"
     ]
    },
    {
     "name": "stdout",
     "output_type": "stream",
     "text": [
      "INFO:tensorflow:Assets written to: ../assets/saved_models/second_best_model\\assets\n"
     ]
    },
    {
     "name": "stderr",
     "output_type": "stream",
     "text": [
      "INFO:tensorflow:Assets written to: ../assets/saved_models/second_best_model\\assets\n"
     ]
    }
   ],
   "source": [
    "model.save('../assets/saved_models/second_best_model')"
   ]
  },
  {
   "cell_type": "markdown",
   "id": "f4b914e8-2090-46e7-bb0e-25be0aad876b",
   "metadata": {},
   "source": [
    "___\n",
    "#### Predictions\n",
    "Let's see how the model does on the test set.  The test set will need to be resaled.\n",
    "___\n"
   ]
  },
  {
   "cell_type": "code",
   "execution_count": 95,
   "id": "660d06b9-025d-42bb-9c40-d65a243fb7c5",
   "metadata": {},
   "outputs": [],
   "source": [
    "def make_predictions(path):\n",
    "    \"\"\"Generate predictions for a dataset given its path.\n",
    "    The dataset should be organized in a directory into subdirectories labelling the classes\"\"\"\n",
    "    test_datagen = ImageDataGenerator(\n",
    "        rescale=1./255 # This is a necessary preprocessing step\n",
    "    )\n",
    "    test_generator = test_datagen.flow_from_directory(\n",
    "        path,\n",
    "        target_size=model_target_size,\n",
    "        batch_size=model_batch_size,\n",
    "        class_mode=None,\n",
    "        shuffle=False\n",
    "    )\n",
    "   \n",
    "    predictions = model.predict(test_generator, verbose=1)\n",
    "    predicted_class = np.argmax(predictions, axis=1)\n",
    "    for image, pred_class in enumerate(predicted_class):\n",
    "        print(f'Image {image+1} predicted as class: {pred_class}')\n",
    "\n",
    "    return test_generator.classes\n",
    "    "
   ]
  },
  {
   "cell_type": "code",
   "execution_count": 96,
   "id": "6934f818-a161-473b-90c0-041e233ebd2d",
   "metadata": {},
   "outputs": [
    {
     "name": "stdout",
     "output_type": "stream",
     "text": [
      "Found 59 images belonging to 2 classes.\n",
      "2/2 [==============================] - 6s 2s/step\n",
      "Image 1 predicted as class: 0\n",
      "Image 2 predicted as class: 0\n",
      "Image 3 predicted as class: 0\n",
      "Image 4 predicted as class: 0\n",
      "Image 5 predicted as class: 0\n",
      "Image 6 predicted as class: 0\n",
      "Image 7 predicted as class: 0\n",
      "Image 8 predicted as class: 0\n",
      "Image 9 predicted as class: 0\n",
      "Image 10 predicted as class: 0\n",
      "Image 11 predicted as class: 0\n",
      "Image 12 predicted as class: 0\n",
      "Image 13 predicted as class: 0\n",
      "Image 14 predicted as class: 0\n",
      "Image 15 predicted as class: 0\n",
      "Image 16 predicted as class: 0\n",
      "Image 17 predicted as class: 0\n",
      "Image 18 predicted as class: 0\n",
      "Image 19 predicted as class: 0\n",
      "Image 20 predicted as class: 0\n",
      "Image 21 predicted as class: 0\n",
      "Image 22 predicted as class: 0\n",
      "Image 23 predicted as class: 0\n",
      "Image 24 predicted as class: 0\n",
      "Image 25 predicted as class: 0\n",
      "Image 26 predicted as class: 0\n",
      "Image 27 predicted as class: 0\n",
      "Image 28 predicted as class: 0\n",
      "Image 29 predicted as class: 0\n",
      "Image 30 predicted as class: 0\n",
      "Image 31 predicted as class: 0\n",
      "Image 32 predicted as class: 0\n",
      "Image 33 predicted as class: 0\n",
      "Image 34 predicted as class: 0\n",
      "Image 35 predicted as class: 0\n",
      "Image 36 predicted as class: 0\n",
      "Image 37 predicted as class: 0\n",
      "Image 38 predicted as class: 0\n",
      "Image 39 predicted as class: 0\n",
      "Image 40 predicted as class: 0\n",
      "Image 41 predicted as class: 0\n",
      "Image 42 predicted as class: 0\n",
      "Image 43 predicted as class: 0\n",
      "Image 44 predicted as class: 0\n",
      "Image 45 predicted as class: 0\n",
      "Image 46 predicted as class: 0\n",
      "Image 47 predicted as class: 0\n",
      "Image 48 predicted as class: 0\n",
      "Image 49 predicted as class: 0\n",
      "Image 50 predicted as class: 0\n",
      "Image 51 predicted as class: 0\n",
      "Image 52 predicted as class: 0\n",
      "Image 53 predicted as class: 0\n",
      "Image 54 predicted as class: 0\n",
      "Image 55 predicted as class: 0\n",
      "Image 56 predicted as class: 0\n",
      "Image 57 predicted as class: 0\n",
      "Image 58 predicted as class: 0\n",
      "Image 59 predicted as class: 0\n"
     ]
    },
    {
     "data": {
      "text/plain": [
       "array([0, 0, 0, 0, 0, 0, 0, 0, 0, 0, 0, 0, 0, 0, 0, 0, 0, 0, 0, 0, 0, 0,\n",
       "       0, 0, 0, 1, 1, 1, 1, 1, 1, 1, 1, 1, 1, 1, 1, 1, 1, 1, 1, 1, 1, 1,\n",
       "       1, 1, 1, 1, 1, 1, 1, 1, 1, 1, 1, 1, 1, 1, 1])"
      ]
     },
     "execution_count": 96,
     "metadata": {},
     "output_type": "execute_result"
    }
   ],
   "source": [
    "make_predictions('../data/selective_data/test/')"
   ]
  },
  {
   "cell_type": "code",
   "execution_count": 93,
   "id": "8029fa61-2a98-45be-bf10-7095f5f0082d",
   "metadata": {},
   "outputs": [
    {
     "ename": "NameError",
     "evalue": "name 'test_generator' is not defined",
     "output_type": "error",
     "traceback": [
      "\u001b[1;31m---------------------------------------------------------------------------\u001b[0m",
      "\u001b[1;31mNameError\u001b[0m                                 Traceback (most recent call last)",
      "Cell \u001b[1;32mIn[93], line 1\u001b[0m\n\u001b[1;32m----> 1\u001b[0m true_labels \u001b[38;5;241m=\u001b[39m \u001b[43mtest_generator\u001b[49m\u001b[38;5;241m.\u001b[39mclasses\n",
      "\u001b[1;31mNameError\u001b[0m: name 'test_generator' is not defined"
     ]
    }
   ],
   "source": [
    "true_labels = test_generator.classes"
   ]
  },
  {
   "cell_type": "code",
   "execution_count": null,
   "id": "436500d3-72c2-436f-82e7-0ae6d8995f00",
   "metadata": {},
   "outputs": [],
   "source": []
  }
 ],
 "metadata": {
  "kernelspec": {
   "display_name": "tfnb",
   "language": "python",
   "name": "tfnb"
  },
  "language_info": {
   "codemirror_mode": {
    "name": "ipython",
    "version": 3
   },
   "file_extension": ".py",
   "mimetype": "text/x-python",
   "name": "python",
   "nbconvert_exporter": "python",
   "pygments_lexer": "ipython3",
   "version": "3.10.13"
  }
 },
 "nbformat": 4,
 "nbformat_minor": 5
}
