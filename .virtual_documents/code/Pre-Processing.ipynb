


import matplotlib.pyplot as plt
import numpy as np

import os

from tensorflow.keras.preprocessing.image import img_to_array, load_img


clean = load_img('../data/cargo_holds/clean_website_reviewed/47681173_2008763662504219_1873423245131120640_n.jpg')
clean


clean_array =  img_to_array(clean)
clean_array.shape


plt.imshow(clean_array/255)





from imblearn.over_sampling import RandomOverSampler
from imblearn.pipeline import make_pipeline








# data augmentation
datagen = ImageDataGenerator(
    brightness_range=(0.5, 1.5),
    rotation_range=45,
    width_shift_range=0.3,
    height_shift_range=0.3,
    shear_range=0.3,
    zoom_range=0.3,
    horizontal_flip=True,
    validation_split=0.1,
    fill_mode='constant'
)
