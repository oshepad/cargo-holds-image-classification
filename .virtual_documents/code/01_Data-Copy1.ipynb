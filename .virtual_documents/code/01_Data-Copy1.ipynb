


import matplotlib.pyplot as plt
import matplotlib.image as mpimg
import numpy as np
import os
from PIL import Image

from sklearn.model_selection import train_test_split, GridSearchCV
from tensorflow.keras.preprocessing import image_dataset_from_directory
from tensorflow.keras.preprocessing.image import img_to_array, load_img






data_directory_iamge = load_img('../assets/Data_Directory.jpg')
data_directory_iamge





clean = load_img('../data/cargo_holds/clean_website_reviewed/47681173_2008763662504219_1873423245131120640_n.jpg')
clean


plt.figure(figsize=(10, 10))
for images, labels in test.take(1):
  for i in range(9):
    ax = plt.subplot(3, 3, i + 1)
    plt.imshow(images[i].numpy().astype("uint8"))
    plt.title('blah')
    plt.axis("off")








clean_array =  img_to_array(clean)
clean_array.shape


plt.imshow(clean_array/255)








clean_array_reshaped = clean_array.reshape(clean_array.shape[0], -1)
clean_array_reshaped.shape


train, test = image_dataset_from_directory(
    '../data/cargo_holds/',
    image_size=(512, 512),
    batch_size=32,
    label_mode='binary',
    seed=42,
    validation_split=0.1,
    subset='both'
)


train.class_names, test.class_names





from imblearn.over_sampling import RandomOverSampler
from imblearn.pipeline import make_pipeline


# make a pipeline to reandom over sample minority class
pipe = make_pipeline(RandomOverSampler(random_state=27))# model)
pipe


gs = GridSearchCV(pipe, {'randomoversampler__sampling_strategy': [.25, .5, .75, 1]}, n_jobs=-1)


gs.fit(train, test)











# data augmentation
datagen = ImageDataGenerator(
    brightness_range=(0.5, 1.5),
    rotation_range=45,
    width_shift_range=0.3,
    height_shift_range=0.3,
    shear_range=0.3,
    zoom_range=0.3,
    horizontal_flip=True,
    validation_split=0.1,
    fill_mode='constant'
)
