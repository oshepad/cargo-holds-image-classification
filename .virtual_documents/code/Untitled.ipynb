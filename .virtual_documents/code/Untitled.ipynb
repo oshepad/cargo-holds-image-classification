


# Review the dataset manually to get an understading of the quality of photos
# Ensure that all files are not-corrupt


# Plot some images


# Resize images


# Label 


import matplotlib.pyplot as plt
import numpy as np
import os 
from tensorflow.keras.preprocessing.image import img_to_array, load_img



