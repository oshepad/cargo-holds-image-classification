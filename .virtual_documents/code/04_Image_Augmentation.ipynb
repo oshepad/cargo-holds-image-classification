


from tensorflow.keras.preprocessing.image import ImageDataGenerator
from tensorflow.keras.preprocessing.image import img_to_array, load_img, smart_resize, ImageDataGenerator

from tensorflow.keras.models import Sequential
from tensorflow.keras.layers import Input, Rescaling, Dense, Dropout, Flatten, Conv2D, MaxPooling2D
from tensorflow.keras.regularizers import l2
from tensorflow.keras.callbacks import EarlyStopping, ModelCheckpoint


# data augmentation
datagen = ImageDataGenerator(
    brightness_range=(0.5, 1.5),
    rotation_range=45,
    width_shift_range=0.3,
    height_shift_range=0.3,
    shear_range=0.3,
    zoom_range=[0.4, 0.6],
    channel_shift_range=100,
    horizontal_flip=True,
    validation_split=0.1,
    fill_mode='nearest'
)


img = load_img('../data/cargo_holds/clean_website_reviewed/47681173_2008763662504219_1873423245131120640_n.jpg')
img


x = img_to_array(img)
x = x.reshape((1,) + x.shape)

i=0
for batch in datagen.flow(x, batch_size=1, save_to_dir='../data/single_augmented', save_prefix='aug', save_format='jpg'):
    i += 1
    if i > 100:
        break





# model for image classification
model = Sequential()
model.add(Input((128, 128, 3)))

model.add(Conv2D(64, (3, 3), activation='relu', kernel_regularizer='l2'))
model.add(MaxPooling2D(pool_size=(2, 2)))
model.add(Dropout(0.50))

#model.add(Conv2D(128, (3, 3), activation='relu', kernel_regularizer='l2'))
#model.add(MaxPooling2D(pool_size=(2, 2)))
#model.add(Dropout(0.25))

model.add(Flatten())
model.add(Dense(128, activation='relu'))
model.add(Dropout(0.50))
model.add(Dense(1, activation='sigmoid'))

# compile model
model.compile(optimizer='adam', loss='bce', metrics=['accuracy'])

model.summary()


# Dataset Augmenters

batch_size = 16
train_datagen = ImageDataGenerator(
    rescale=1./255,
    brightness_range=(0.5, 1.5),
    rotation_range=45,
    width_shift_range=0.3,
    height_shift_range=0.3,
    shear_range=0.3,
    zoom_range=[0.4, 0.6],
    channel_shift_range=100,
    horizontal_flip=True,
    validation_split=0.1,
    fill_mode='nearest'
)

validation_datagen = ImageDataGenerator(rescale=1./255)


# Augmenting data

train_generator = train_datagen.flow_from_directory(
    '../data/cargo_holds/',
    target_size=(128, 128),
    batch_size=batch_size,
    class_mode='binary'
)

validation_generaotr = validation_datagen.flow_from_directory(
    '../data/cargo_holds/',
    target_size=(128, 128),
    batch_size=batch_size,
    class_mode='binary'
)


# Model checkpoint
filepath = '../assets/saved_models/weights-imporvement-{epoch:02d}--{val_acc:.2f}.hdf5'
checkpoint = ModelCheckpoint(filepath, monitor='val_acc', verbose=1, save_best_only=True, mode='max')
callbacks_list = [checkpoint]


# Fit model
model.fit(
    train_generator,
    #steps_per_epoch=2000 // batch_size,
    epochs=5,
    validation_data = validation_generaotr,
    #validation_steps=800 // batch_size,
    callbacks=callbacks_list
)

model.save('cargo_holds_model_')



